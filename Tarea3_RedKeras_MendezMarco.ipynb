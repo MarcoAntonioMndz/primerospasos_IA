{
  "cells": [
    {
      "cell_type": "markdown",
      "metadata": {
        "id": "view-in-github",
        "colab_type": "text"
      },
      "source": [
        "<a href=\"https://colab.research.google.com/github/MarcoAntonioMndz/primerospasos_IA/blob/main/Tarea3_RedKeras_MendezMarco.ipynb\" target=\"_parent\"><img src=\"https://colab.research.google.com/assets/colab-badge.svg\" alt=\"Open In Colab\"/></a>"
      ]
    },
    {
      "cell_type": "markdown",
      "metadata": {
        "ExecuteTime": {
          "end_time": "2020-03-04T01:21:08.810200Z",
          "start_time": "2020-03-04T01:21:08.804251Z"
        },
        "id": "56mowcEzo1Vu"
      },
      "source": [
        "<font size=5 color='blue'>\n",
        "\n",
        "## <center> Tarea 3. Mi primera red neuronal con Keras </center>"
      ]
    },
    {
      "cell_type": "markdown",
      "metadata": {
        "id": "NTi4nPllo1V0"
      },
      "source": [
        "<font size=4>El objetivo de esta tarea es únicamente la de mecanizar lo visto en la clase 5, haciendo cambios ligeros a la definición de la red neuronal, que tendrás que hacer tú a mano. De igual manera, queremos que domines los métodos de Pandas que se han trabajado hasta el momento. \n",
        "    \n",
        "<font size=4>Sigue las instrucciones al pie de la letra. Todo el material que se te preguntará en esta tarea viene en las semanas 4 y 5. Recuerda instalar Tensorflow para poder realizar este trabajo"
      ]
    },
    {
      "cell_type": "markdown",
      "metadata": {
        "id": "KPGrhc6ro1V1"
      },
      "source": [
        "<font size=5 color='blue'>\n",
        "Información sobre el problema a resolver"
      ]
    },
    {
      "cell_type": "markdown",
      "metadata": {
        "id": "EHualgUBo1V2"
      },
      "source": [
        "<font size=4>\n",
        "\n",
        "Evolución de la enfermedad de pacientes con Diabetes Mellitus despues de un año.\n",
        "    \n",
        "En el presente trabajo, la diabetes la caracterizamos con los siguientes diez rasgos: edad, sexo, índice de masa corporal, presión arterial promedio y seis mediciones de suero sanguíneo:\n",
        "\n",
        "     Colesterol Total \n",
        "     Baja densidad de liporoteinas\n",
        "     Alta densidad de lipoproteinas\n",
        "     Triglicéridos\n",
        "     Concentración de Lamorigina\n",
        "     Glucosa"
      ]
    },
    {
      "cell_type": "markdown",
      "metadata": {
        "id": "dDRhfTkVo1V3"
      },
      "source": [
        "<font size=5 color='blue'>\n",
        "    \n",
        "Cuantificación de esta información"
      ]
    },
    {
      "cell_type": "markdown",
      "metadata": {
        "id": "Yq_KAmTKo1V4"
      },
      "source": [
        "<font size=4>\n",
        "\n",
        "Se tienen información de 442 pacientes (m = 442). La respuesta de interés, Y, es una medida cuantitativa de la progresión de la enfermedad un año después del inicio del estudio. Los valores de Y varían entre 25 y 346\n",
        "\n",
        "Fuente de la información: [diabetes data](https://www4.stat.ncsu.edu/~boos/var.select/diabetes.html)    Artículo original: [Least-Angle-Regression_2004](./Literatura/Least-Angle-Regression_2004.pdf)"
      ]
    },
    {
      "cell_type": "code",
      "execution_count": null,
      "metadata": {
        "ExecuteTime": {
          "end_time": "2020-10-19T12:30:23.916483Z",
          "start_time": "2020-10-19T12:30:23.496513Z"
        },
        "id": "MlC7t85oo1V6"
      },
      "outputs": [],
      "source": [
        "import tensorflow as tf\n",
        "from tensorflow import keras\n",
        "from tensorflow.keras.models import Sequential\n",
        "from tensorflow.keras.layers import Input, Dense, Flatten\n",
        "from tensorflow.keras.layers import Activation\n",
        "from tensorflow.keras.optimizers import SGD, Adam\n",
        "from tensorflow.keras.models import Model\n",
        "from tensorflow.keras.utils import plot_model\n",
        "from tensorflow.keras import initializers\n",
        "\n",
        "import numpy as np\n",
        "import pandas as pd\n",
        "import matplotlib.pyplot as plt\n",
        "import networkx as nx\n",
        "import time\n",
        "\n",
        "np.random.seed(1)"
      ]
    },
    {
      "cell_type": "markdown",
      "metadata": {
        "id": "lOB9x0nqo1V9"
      },
      "source": [
        "<font size=4>1. Importa el archivo *diabetes.csv* como un DataFrame de Pandas. De igual manera, muestra los primeros 5 registros de dicho dataset."
      ]
    },
    {
      "cell_type": "code",
      "execution_count": null,
      "metadata": {
        "ExecuteTime": {
          "end_time": "2020-10-19T12:30:23.924252Z",
          "start_time": "2020-10-19T12:30:23.918002Z"
        },
        "colab": {
          "base_uri": "https://localhost:8080/",
          "height": 206
        },
        "id": "uoytZldmo1V-",
        "outputId": "bc5b95bf-f528-4bcc-8ee5-382ed2b72a59"
      },
      "outputs": [
        {
          "output_type": "execute_result",
          "data": {
            "text/plain": [
              "   AGE  SEX   BMI     BP   S1     S2    S3   S4      S5  S6    Y\n",
              "0   59    2  32.1  101.0  157   93.2  38.0  4.0  4.8598  87  151\n",
              "1   48    1  21.6   87.0  183  103.2  70.0  3.0  3.8918  69   75\n",
              "2   72    2  30.5   93.0  156   93.6  41.0  4.0  4.6728  85  141\n",
              "3   24    1  25.3   84.0  198  131.4  40.0  5.0  4.8903  89  206\n",
              "4   50    1  23.0  101.0  192  125.4  52.0  4.0  4.2905  80  135"
            ],
            "text/html": [
              "\n",
              "  <div id=\"df-d36252b2-54dd-47b5-8518-c080d74cad53\">\n",
              "    <div class=\"colab-df-container\">\n",
              "      <div>\n",
              "<style scoped>\n",
              "    .dataframe tbody tr th:only-of-type {\n",
              "        vertical-align: middle;\n",
              "    }\n",
              "\n",
              "    .dataframe tbody tr th {\n",
              "        vertical-align: top;\n",
              "    }\n",
              "\n",
              "    .dataframe thead th {\n",
              "        text-align: right;\n",
              "    }\n",
              "</style>\n",
              "<table border=\"1\" class=\"dataframe\">\n",
              "  <thead>\n",
              "    <tr style=\"text-align: right;\">\n",
              "      <th></th>\n",
              "      <th>AGE</th>\n",
              "      <th>SEX</th>\n",
              "      <th>BMI</th>\n",
              "      <th>BP</th>\n",
              "      <th>S1</th>\n",
              "      <th>S2</th>\n",
              "      <th>S3</th>\n",
              "      <th>S4</th>\n",
              "      <th>S5</th>\n",
              "      <th>S6</th>\n",
              "      <th>Y</th>\n",
              "    </tr>\n",
              "  </thead>\n",
              "  <tbody>\n",
              "    <tr>\n",
              "      <th>0</th>\n",
              "      <td>59</td>\n",
              "      <td>2</td>\n",
              "      <td>32.1</td>\n",
              "      <td>101.0</td>\n",
              "      <td>157</td>\n",
              "      <td>93.2</td>\n",
              "      <td>38.0</td>\n",
              "      <td>4.0</td>\n",
              "      <td>4.8598</td>\n",
              "      <td>87</td>\n",
              "      <td>151</td>\n",
              "    </tr>\n",
              "    <tr>\n",
              "      <th>1</th>\n",
              "      <td>48</td>\n",
              "      <td>1</td>\n",
              "      <td>21.6</td>\n",
              "      <td>87.0</td>\n",
              "      <td>183</td>\n",
              "      <td>103.2</td>\n",
              "      <td>70.0</td>\n",
              "      <td>3.0</td>\n",
              "      <td>3.8918</td>\n",
              "      <td>69</td>\n",
              "      <td>75</td>\n",
              "    </tr>\n",
              "    <tr>\n",
              "      <th>2</th>\n",
              "      <td>72</td>\n",
              "      <td>2</td>\n",
              "      <td>30.5</td>\n",
              "      <td>93.0</td>\n",
              "      <td>156</td>\n",
              "      <td>93.6</td>\n",
              "      <td>41.0</td>\n",
              "      <td>4.0</td>\n",
              "      <td>4.6728</td>\n",
              "      <td>85</td>\n",
              "      <td>141</td>\n",
              "    </tr>\n",
              "    <tr>\n",
              "      <th>3</th>\n",
              "      <td>24</td>\n",
              "      <td>1</td>\n",
              "      <td>25.3</td>\n",
              "      <td>84.0</td>\n",
              "      <td>198</td>\n",
              "      <td>131.4</td>\n",
              "      <td>40.0</td>\n",
              "      <td>5.0</td>\n",
              "      <td>4.8903</td>\n",
              "      <td>89</td>\n",
              "      <td>206</td>\n",
              "    </tr>\n",
              "    <tr>\n",
              "      <th>4</th>\n",
              "      <td>50</td>\n",
              "      <td>1</td>\n",
              "      <td>23.0</td>\n",
              "      <td>101.0</td>\n",
              "      <td>192</td>\n",
              "      <td>125.4</td>\n",
              "      <td>52.0</td>\n",
              "      <td>4.0</td>\n",
              "      <td>4.2905</td>\n",
              "      <td>80</td>\n",
              "      <td>135</td>\n",
              "    </tr>\n",
              "  </tbody>\n",
              "</table>\n",
              "</div>\n",
              "      <button class=\"colab-df-convert\" onclick=\"convertToInteractive('df-d36252b2-54dd-47b5-8518-c080d74cad53')\"\n",
              "              title=\"Convert this dataframe to an interactive table.\"\n",
              "              style=\"display:none;\">\n",
              "        \n",
              "  <svg xmlns=\"http://www.w3.org/2000/svg\" height=\"24px\"viewBox=\"0 0 24 24\"\n",
              "       width=\"24px\">\n",
              "    <path d=\"M0 0h24v24H0V0z\" fill=\"none\"/>\n",
              "    <path d=\"M18.56 5.44l.94 2.06.94-2.06 2.06-.94-2.06-.94-.94-2.06-.94 2.06-2.06.94zm-11 1L8.5 8.5l.94-2.06 2.06-.94-2.06-.94L8.5 2.5l-.94 2.06-2.06.94zm10 10l.94 2.06.94-2.06 2.06-.94-2.06-.94-.94-2.06-.94 2.06-2.06.94z\"/><path d=\"M17.41 7.96l-1.37-1.37c-.4-.4-.92-.59-1.43-.59-.52 0-1.04.2-1.43.59L10.3 9.45l-7.72 7.72c-.78.78-.78 2.05 0 2.83L4 21.41c.39.39.9.59 1.41.59.51 0 1.02-.2 1.41-.59l7.78-7.78 2.81-2.81c.8-.78.8-2.07 0-2.86zM5.41 20L4 18.59l7.72-7.72 1.47 1.35L5.41 20z\"/>\n",
              "  </svg>\n",
              "      </button>\n",
              "      \n",
              "  <style>\n",
              "    .colab-df-container {\n",
              "      display:flex;\n",
              "      flex-wrap:wrap;\n",
              "      gap: 12px;\n",
              "    }\n",
              "\n",
              "    .colab-df-convert {\n",
              "      background-color: #E8F0FE;\n",
              "      border: none;\n",
              "      border-radius: 50%;\n",
              "      cursor: pointer;\n",
              "      display: none;\n",
              "      fill: #1967D2;\n",
              "      height: 32px;\n",
              "      padding: 0 0 0 0;\n",
              "      width: 32px;\n",
              "    }\n",
              "\n",
              "    .colab-df-convert:hover {\n",
              "      background-color: #E2EBFA;\n",
              "      box-shadow: 0px 1px 2px rgba(60, 64, 67, 0.3), 0px 1px 3px 1px rgba(60, 64, 67, 0.15);\n",
              "      fill: #174EA6;\n",
              "    }\n",
              "\n",
              "    [theme=dark] .colab-df-convert {\n",
              "      background-color: #3B4455;\n",
              "      fill: #D2E3FC;\n",
              "    }\n",
              "\n",
              "    [theme=dark] .colab-df-convert:hover {\n",
              "      background-color: #434B5C;\n",
              "      box-shadow: 0px 1px 3px 1px rgba(0, 0, 0, 0.15);\n",
              "      filter: drop-shadow(0px 1px 2px rgba(0, 0, 0, 0.3));\n",
              "      fill: #FFFFFF;\n",
              "    }\n",
              "  </style>\n",
              "\n",
              "      <script>\n",
              "        const buttonEl =\n",
              "          document.querySelector('#df-d36252b2-54dd-47b5-8518-c080d74cad53 button.colab-df-convert');\n",
              "        buttonEl.style.display =\n",
              "          google.colab.kernel.accessAllowed ? 'block' : 'none';\n",
              "\n",
              "        async function convertToInteractive(key) {\n",
              "          const element = document.querySelector('#df-d36252b2-54dd-47b5-8518-c080d74cad53');\n",
              "          const dataTable =\n",
              "            await google.colab.kernel.invokeFunction('convertToInteractive',\n",
              "                                                     [key], {});\n",
              "          if (!dataTable) return;\n",
              "\n",
              "          const docLinkHtml = 'Like what you see? Visit the ' +\n",
              "            '<a target=\"_blank\" href=https://colab.research.google.com/notebooks/data_table.ipynb>data table notebook</a>'\n",
              "            + ' to learn more about interactive tables.';\n",
              "          element.innerHTML = '';\n",
              "          dataTable['output_type'] = 'display_data';\n",
              "          await google.colab.output.renderOutput(dataTable, element);\n",
              "          const docLink = document.createElement('div');\n",
              "          docLink.innerHTML = docLinkHtml;\n",
              "          element.appendChild(docLink);\n",
              "        }\n",
              "      </script>\n",
              "    </div>\n",
              "  </div>\n",
              "  "
            ]
          },
          "metadata": {},
          "execution_count": 36
        }
      ],
      "source": [
        "# Importamos el archivo con la librería pandas.\n",
        "df = pd.read_csv(\"/content/diabetes.csv\", sep =\"\\t\")\n",
        "\n",
        "# Mostramos los primeros 5 registros.\n",
        "df.head()"
      ]
    },
    {
      "cell_type": "markdown",
      "metadata": {
        "id": "68osvP4to1V_"
      },
      "source": [
        "<font size=4>2. Muestra la estadística general de las columnas que componen el dataset. Con esta información, responde a las siguientes preguntas:\n",
        "    \n",
        "    * ¿Cúal es la edad promedio de los pacientes del estudio?\n",
        "      \n",
        "       48.52 años.\n",
        "\n",
        "    * ¿Cúal es el índice de masa corporal máximo registrado?\n",
        "\n",
        "      42.2.\n",
        "    \n",
        "    * ¿Qué edad tiene el paciente más joven del estudio?\n",
        "\n",
        "      19 años."
      ]
    },
    {
      "cell_type": "code",
      "execution_count": null,
      "metadata": {
        "id": "tMm19kZqo1WA",
        "colab": {
          "base_uri": "https://localhost:8080/",
          "height": 300
        },
        "outputId": "bb0b132c-3c6d-4d0f-8846-7d3ac7e7b4c1"
      },
      "outputs": [
        {
          "output_type": "execute_result",
          "data": {
            "text/plain": [
              "              AGE         SEX         BMI          BP          S1          S2  \\\n",
              "count  442.000000  442.000000  442.000000  442.000000  442.000000  442.000000   \n",
              "mean    48.518100    1.468326   26.375792   94.647014  189.140271  115.439140   \n",
              "std     13.109028    0.499561    4.418122   13.831283   34.608052   30.413081   \n",
              "min     19.000000    1.000000   18.000000   62.000000   97.000000   41.600000   \n",
              "25%     38.250000    1.000000   23.200000   84.000000  164.250000   96.050000   \n",
              "50%     50.000000    1.000000   25.700000   93.000000  186.000000  113.000000   \n",
              "75%     59.000000    2.000000   29.275000  105.000000  209.750000  134.500000   \n",
              "max     79.000000    2.000000   42.200000  133.000000  301.000000  242.400000   \n",
              "\n",
              "               S3          S4          S5          S6           Y  \n",
              "count  442.000000  442.000000  442.000000  442.000000  442.000000  \n",
              "mean    49.788462    4.070249    4.641411   91.260181  152.133484  \n",
              "std     12.934202    1.290450    0.522391   11.496335   77.093005  \n",
              "min     22.000000    2.000000    3.258100   58.000000   25.000000  \n",
              "25%     40.250000    3.000000    4.276700   83.250000   87.000000  \n",
              "50%     48.000000    4.000000    4.620050   91.000000  140.500000  \n",
              "75%     57.750000    5.000000    4.997200   98.000000  211.500000  \n",
              "max     99.000000    9.090000    6.107000  124.000000  346.000000  "
            ],
            "text/html": [
              "\n",
              "  <div id=\"df-7d36d43b-1663-47f5-a1c5-d18a44720748\">\n",
              "    <div class=\"colab-df-container\">\n",
              "      <div>\n",
              "<style scoped>\n",
              "    .dataframe tbody tr th:only-of-type {\n",
              "        vertical-align: middle;\n",
              "    }\n",
              "\n",
              "    .dataframe tbody tr th {\n",
              "        vertical-align: top;\n",
              "    }\n",
              "\n",
              "    .dataframe thead th {\n",
              "        text-align: right;\n",
              "    }\n",
              "</style>\n",
              "<table border=\"1\" class=\"dataframe\">\n",
              "  <thead>\n",
              "    <tr style=\"text-align: right;\">\n",
              "      <th></th>\n",
              "      <th>AGE</th>\n",
              "      <th>SEX</th>\n",
              "      <th>BMI</th>\n",
              "      <th>BP</th>\n",
              "      <th>S1</th>\n",
              "      <th>S2</th>\n",
              "      <th>S3</th>\n",
              "      <th>S4</th>\n",
              "      <th>S5</th>\n",
              "      <th>S6</th>\n",
              "      <th>Y</th>\n",
              "    </tr>\n",
              "  </thead>\n",
              "  <tbody>\n",
              "    <tr>\n",
              "      <th>count</th>\n",
              "      <td>442.000000</td>\n",
              "      <td>442.000000</td>\n",
              "      <td>442.000000</td>\n",
              "      <td>442.000000</td>\n",
              "      <td>442.000000</td>\n",
              "      <td>442.000000</td>\n",
              "      <td>442.000000</td>\n",
              "      <td>442.000000</td>\n",
              "      <td>442.000000</td>\n",
              "      <td>442.000000</td>\n",
              "      <td>442.000000</td>\n",
              "    </tr>\n",
              "    <tr>\n",
              "      <th>mean</th>\n",
              "      <td>48.518100</td>\n",
              "      <td>1.468326</td>\n",
              "      <td>26.375792</td>\n",
              "      <td>94.647014</td>\n",
              "      <td>189.140271</td>\n",
              "      <td>115.439140</td>\n",
              "      <td>49.788462</td>\n",
              "      <td>4.070249</td>\n",
              "      <td>4.641411</td>\n",
              "      <td>91.260181</td>\n",
              "      <td>152.133484</td>\n",
              "    </tr>\n",
              "    <tr>\n",
              "      <th>std</th>\n",
              "      <td>13.109028</td>\n",
              "      <td>0.499561</td>\n",
              "      <td>4.418122</td>\n",
              "      <td>13.831283</td>\n",
              "      <td>34.608052</td>\n",
              "      <td>30.413081</td>\n",
              "      <td>12.934202</td>\n",
              "      <td>1.290450</td>\n",
              "      <td>0.522391</td>\n",
              "      <td>11.496335</td>\n",
              "      <td>77.093005</td>\n",
              "    </tr>\n",
              "    <tr>\n",
              "      <th>min</th>\n",
              "      <td>19.000000</td>\n",
              "      <td>1.000000</td>\n",
              "      <td>18.000000</td>\n",
              "      <td>62.000000</td>\n",
              "      <td>97.000000</td>\n",
              "      <td>41.600000</td>\n",
              "      <td>22.000000</td>\n",
              "      <td>2.000000</td>\n",
              "      <td>3.258100</td>\n",
              "      <td>58.000000</td>\n",
              "      <td>25.000000</td>\n",
              "    </tr>\n",
              "    <tr>\n",
              "      <th>25%</th>\n",
              "      <td>38.250000</td>\n",
              "      <td>1.000000</td>\n",
              "      <td>23.200000</td>\n",
              "      <td>84.000000</td>\n",
              "      <td>164.250000</td>\n",
              "      <td>96.050000</td>\n",
              "      <td>40.250000</td>\n",
              "      <td>3.000000</td>\n",
              "      <td>4.276700</td>\n",
              "      <td>83.250000</td>\n",
              "      <td>87.000000</td>\n",
              "    </tr>\n",
              "    <tr>\n",
              "      <th>50%</th>\n",
              "      <td>50.000000</td>\n",
              "      <td>1.000000</td>\n",
              "      <td>25.700000</td>\n",
              "      <td>93.000000</td>\n",
              "      <td>186.000000</td>\n",
              "      <td>113.000000</td>\n",
              "      <td>48.000000</td>\n",
              "      <td>4.000000</td>\n",
              "      <td>4.620050</td>\n",
              "      <td>91.000000</td>\n",
              "      <td>140.500000</td>\n",
              "    </tr>\n",
              "    <tr>\n",
              "      <th>75%</th>\n",
              "      <td>59.000000</td>\n",
              "      <td>2.000000</td>\n",
              "      <td>29.275000</td>\n",
              "      <td>105.000000</td>\n",
              "      <td>209.750000</td>\n",
              "      <td>134.500000</td>\n",
              "      <td>57.750000</td>\n",
              "      <td>5.000000</td>\n",
              "      <td>4.997200</td>\n",
              "      <td>98.000000</td>\n",
              "      <td>211.500000</td>\n",
              "    </tr>\n",
              "    <tr>\n",
              "      <th>max</th>\n",
              "      <td>79.000000</td>\n",
              "      <td>2.000000</td>\n",
              "      <td>42.200000</td>\n",
              "      <td>133.000000</td>\n",
              "      <td>301.000000</td>\n",
              "      <td>242.400000</td>\n",
              "      <td>99.000000</td>\n",
              "      <td>9.090000</td>\n",
              "      <td>6.107000</td>\n",
              "      <td>124.000000</td>\n",
              "      <td>346.000000</td>\n",
              "    </tr>\n",
              "  </tbody>\n",
              "</table>\n",
              "</div>\n",
              "      <button class=\"colab-df-convert\" onclick=\"convertToInteractive('df-7d36d43b-1663-47f5-a1c5-d18a44720748')\"\n",
              "              title=\"Convert this dataframe to an interactive table.\"\n",
              "              style=\"display:none;\">\n",
              "        \n",
              "  <svg xmlns=\"http://www.w3.org/2000/svg\" height=\"24px\"viewBox=\"0 0 24 24\"\n",
              "       width=\"24px\">\n",
              "    <path d=\"M0 0h24v24H0V0z\" fill=\"none\"/>\n",
              "    <path d=\"M18.56 5.44l.94 2.06.94-2.06 2.06-.94-2.06-.94-.94-2.06-.94 2.06-2.06.94zm-11 1L8.5 8.5l.94-2.06 2.06-.94-2.06-.94L8.5 2.5l-.94 2.06-2.06.94zm10 10l.94 2.06.94-2.06 2.06-.94-2.06-.94-.94-2.06-.94 2.06-2.06.94z\"/><path d=\"M17.41 7.96l-1.37-1.37c-.4-.4-.92-.59-1.43-.59-.52 0-1.04.2-1.43.59L10.3 9.45l-7.72 7.72c-.78.78-.78 2.05 0 2.83L4 21.41c.39.39.9.59 1.41.59.51 0 1.02-.2 1.41-.59l7.78-7.78 2.81-2.81c.8-.78.8-2.07 0-2.86zM5.41 20L4 18.59l7.72-7.72 1.47 1.35L5.41 20z\"/>\n",
              "  </svg>\n",
              "      </button>\n",
              "      \n",
              "  <style>\n",
              "    .colab-df-container {\n",
              "      display:flex;\n",
              "      flex-wrap:wrap;\n",
              "      gap: 12px;\n",
              "    }\n",
              "\n",
              "    .colab-df-convert {\n",
              "      background-color: #E8F0FE;\n",
              "      border: none;\n",
              "      border-radius: 50%;\n",
              "      cursor: pointer;\n",
              "      display: none;\n",
              "      fill: #1967D2;\n",
              "      height: 32px;\n",
              "      padding: 0 0 0 0;\n",
              "      width: 32px;\n",
              "    }\n",
              "\n",
              "    .colab-df-convert:hover {\n",
              "      background-color: #E2EBFA;\n",
              "      box-shadow: 0px 1px 2px rgba(60, 64, 67, 0.3), 0px 1px 3px 1px rgba(60, 64, 67, 0.15);\n",
              "      fill: #174EA6;\n",
              "    }\n",
              "\n",
              "    [theme=dark] .colab-df-convert {\n",
              "      background-color: #3B4455;\n",
              "      fill: #D2E3FC;\n",
              "    }\n",
              "\n",
              "    [theme=dark] .colab-df-convert:hover {\n",
              "      background-color: #434B5C;\n",
              "      box-shadow: 0px 1px 3px 1px rgba(0, 0, 0, 0.15);\n",
              "      filter: drop-shadow(0px 1px 2px rgba(0, 0, 0, 0.3));\n",
              "      fill: #FFFFFF;\n",
              "    }\n",
              "  </style>\n",
              "\n",
              "      <script>\n",
              "        const buttonEl =\n",
              "          document.querySelector('#df-7d36d43b-1663-47f5-a1c5-d18a44720748 button.colab-df-convert');\n",
              "        buttonEl.style.display =\n",
              "          google.colab.kernel.accessAllowed ? 'block' : 'none';\n",
              "\n",
              "        async function convertToInteractive(key) {\n",
              "          const element = document.querySelector('#df-7d36d43b-1663-47f5-a1c5-d18a44720748');\n",
              "          const dataTable =\n",
              "            await google.colab.kernel.invokeFunction('convertToInteractive',\n",
              "                                                     [key], {});\n",
              "          if (!dataTable) return;\n",
              "\n",
              "          const docLinkHtml = 'Like what you see? Visit the ' +\n",
              "            '<a target=\"_blank\" href=https://colab.research.google.com/notebooks/data_table.ipynb>data table notebook</a>'\n",
              "            + ' to learn more about interactive tables.';\n",
              "          element.innerHTML = '';\n",
              "          dataTable['output_type'] = 'display_data';\n",
              "          await google.colab.output.renderOutput(dataTable, element);\n",
              "          const docLink = document.createElement('div');\n",
              "          docLink.innerHTML = docLinkHtml;\n",
              "          element.appendChild(docLink);\n",
              "        }\n",
              "      </script>\n",
              "    </div>\n",
              "  </div>\n",
              "  "
            ]
          },
          "metadata": {},
          "execution_count": 37
        }
      ],
      "source": [
        "# Con describe podemos obtener la información estadística \n",
        "df.describe()"
      ]
    },
    {
      "cell_type": "markdown",
      "metadata": {
        "id": "dZR7wBuwo1WA"
      },
      "source": [
        "<font size=4>3. Elabora los histogramas de cada uno de los rasgos con los que trabajarás en este problema"
      ]
    },
    {
      "cell_type": "code",
      "execution_count": null,
      "metadata": {
        "id": "cuuhPwPto1WB",
        "colab": {
          "base_uri": "https://localhost:8080/",
          "height": 266
        },
        "outputId": "a7720058-156e-45b2-e3b8-e7ff27754002"
      },
      "outputs": [
        {
          "output_type": "display_data",
          "data": {
            "text/plain": [
              "<Figure size 1440x576 with 4 Axes>"
            ],
            "image/png": "[encoded data removed]"
          },
          "metadata": {
            "needs_background": "light"
          }
        }
      ],
      "source": [
        "plt.figure(figsize=(20,8)) \n",
        "\n",
        "ax1 = plt.subplot(2,4,1)\n",
        "ax2 = plt.subplot(2,4,2)\n",
        "ax3 = plt.subplot(2,4,3)\n",
        "ax4 = plt.subplot(2,4,4)\n",
        "\n",
        "ax1.hist(df.AGE, bins=30, color='green',edgecolor='purple', alpha=0.5)\n",
        "ax1.set_xlabel('Age (years)', size=15)\n",
        "ax1.set_ylabel('Frequency', size=15)\n",
        "\n",
        "ax2.hist(df.SEX, bins=30, color='orange',edgecolor='purple', alpha=0.5)\n",
        "ax2.set_xlabel('Sex', size=15)\n",
        "\n",
        "ax3.hist(df.BMI, bins=30, color='red',edgecolor='purple', alpha=0.5)\n",
        "ax3.set_xlabel('Body_mass_index', size=15)\n",
        "\n",
        "ax4.hist(df.BP, bins=30, color='blue',edgecolor='purple', alpha=0.5)\n",
        "ax4.set_xlabel('Mean_Arterial_Pressure', size=15);"
      ]
    },
    {
      "cell_type": "code",
      "source": [
        "plt.figure(figsize=(20,8)) \n",
        "\n",
        "ax1 = plt.subplot(2,4,1)\n",
        "ax2 = plt.subplot(2,4,2)\n",
        "ax3 = plt.subplot(2,4,3)\n",
        "ax4 = plt.subplot(2,4,4)\n",
        "\n",
        "ax1.hist(df.S1, bins=30, color='green',edgecolor='purple', alpha=0.5)\n",
        "ax1.set_xlabel('Total Cholesterol', size=15)\n",
        "ax1.set_ylabel('Frequency', size=15)\n",
        "\n",
        "ax2.hist(df.S2, bins=30, color='orange',edgecolor='purple', alpha=0.5)\n",
        "ax2.set_xlabel('Low Density lipoproteins', size=15)\n",
        "\n",
        "ax3.hist(df.S3, bins=30, color='red',edgecolor='purple', alpha=0.5)\n",
        "ax3.set_xlabel('High Density lipoproteins', size=15)\n",
        "\n",
        "ax4.hist(df.S4, bins=30, color='blue',edgecolor='purple', alpha=0.5)\n",
        "ax4.set_xlabel('Triglyceride', size=15);"
      ],
      "metadata": {
        "colab": {
          "base_uri": "https://localhost:8080/",
          "height": 265
        },
        "id": "denOx832VJDQ",
        "outputId": "0cb3484a-8468-45d8-86c8-f457da829e86"
      },
      "execution_count": null,
      "outputs": [
        {
          "output_type": "display_data",
          "data": {
            "text/plain": [
              "<Figure size 1440x576 with 4 Axes>"
            ],
            "image/png": "[encoded data removed]"
          },
          "metadata": {
            "needs_background": "light"
          }
        }
      ]
    },
    {
      "cell_type": "code",
      "source": [
        "plt.figure(figsize=(15,8)) \n",
        "\n",
        "ax1 = plt.subplot(2,3,1)\n",
        "ax2 = plt.subplot(2,3,2)\n",
        "ax3 = plt.subplot(2,3,3)\n",
        "\n",
        "ax1.hist(df.S5, bins=30, color='green',edgecolor='purple', alpha=0.5)\n",
        "ax1.set_xlabel('Serum Concentration of Lamorigine', size=15)\n",
        "ax1.set_ylabel('Frequency', size=15)\n",
        "\n",
        "ax2.hist(df.S6, bins=30, color='orange',edgecolor='purple', alpha=0.5)\n",
        "ax2.set_xlabel('Glucose', size=15)\n",
        "\n",
        "ax3.hist(df.Y, bins=30, color='purple',edgecolor='black', alpha=0.5)\n",
        "ax3.set_xlabel('Y(Diabetes Mellitus Disease Progression)', size=15)"
      ],
      "metadata": {
        "colab": {
          "base_uri": "https://localhost:8080/",
          "height": 282
        },
        "id": "2g_ozvpsVMNX",
        "outputId": "501c0969-249e-40e1-e27a-ebb188dd8357"
      },
      "execution_count": null,
      "outputs": [
        {
          "output_type": "execute_result",
          "data": {
            "text/plain": [
              "Text(0.5, 0, 'Y(Diabetes Mellitus Disease Progression)')"
            ]
          },
          "metadata": {},
          "execution_count": 40
        },
        {
          "output_type": "display_data",
          "data": {
            "text/plain": [
              "<Figure size 1080x576 with 3 Axes>"
            ],
            "image/png": "[encoded data removed]"
          },
          "metadata": {
            "needs_background": "light"
          }
        }
      ]
    },
    {
      "cell_type": "markdown",
      "metadata": {
        "ExecuteTime": {
          "end_time": "2020-10-13T20:21:23.071130Z",
          "start_time": "2020-10-13T20:21:23.062454Z"
        },
        "id": "S8ZzIPKko1WB"
      },
      "source": [
        "<font size=4>4. Elimina cualquier posible correlación presente entre los registros del estudio de diabetes"
      ]
    },
    {
      "cell_type": "code",
      "execution_count": null,
      "metadata": {
        "id": "7Pj0KP3jo1WC"
      },
      "outputs": [],
      "source": [
        "# Para eliminar las posibles correlaciones reordenamos al azar.\n",
        "df = df.sample(frac=1)"
      ]
    },
    {
      "cell_type": "markdown",
      "metadata": {
        "id": "FIFcGFfUo1WC"
      },
      "source": [
        "<font size=4>5. Divide el dataset en dos subconjuntos: uno para aprender y otro para realizar inferencias. El conjunto de aprendizaje deberá contener el 90% de los registros del dataset. Imprime también las dimensiones de cada conjunto creado en este paso"
      ]
    },
    {
      "cell_type": "code",
      "execution_count": null,
      "metadata": {
        "id": "D70pc-gTo1WD"
      },
      "outputs": [],
      "source": [
        "test_ratio = 0.1\n",
        "\n",
        "train_ratio = int((1.0-test_ratio)*len(df.values[:,:]))\n",
        "\n",
        "# Realizamos la separación del dataset en dos conjuntos.\n",
        "\n",
        "# Conjunto entrenamiento.\n",
        "df_train = df.iloc[0:train_ratio,:]\n",
        "\n",
        "#Conjunto test.\n",
        "df_test  = df.iloc[train_ratio:,:]"
      ]
    },
    {
      "cell_type": "code",
      "source": [
        "# Revisamos las dimensiones de los conjuntos que creamos.\n",
        "print(df_train.shape)\n",
        "print(df_test.shape)"
      ],
      "metadata": {
        "colab": {
          "base_uri": "https://localhost:8080/"
        },
        "id": "TzDjO3Gfc404",
        "outputId": "3d4f6fa9-76ad-41c1-adbf-628a09fe7784"
      },
      "execution_count": null,
      "outputs": [
        {
          "output_type": "stream",
          "name": "stdout",
          "text": [
            "(397, 11)\n",
            "(45, 11)\n"
          ]
        }
      ]
    },
    {
      "cell_type": "markdown",
      "metadata": {
        "id": "SgOuTPPlo1WD"
      },
      "source": [
        "<font size=4>6. Normaliza los conjuntos de entrenamiento y de prueba, utilizando la estadística del conjunto de entrenamiento."
      ]
    },
    {
      "cell_type": "markdown",
      "source": [
        "Normalizamos las muestras que se emplearán en el entrenamiento, tanto las variables que describen los rasgos (X) como las variables objetivo (Y):\n",
        "\n",
        "$$x_{i,norm} = \\dfrac{x_{i}-\\mu}{\\sigma}$$\n",
        "    \n",
        "$$y_{i,norm} = \\dfrac{y_{i}-\\mu}{\\sigma}$$"
      ],
      "metadata": {
        "id": "sI8VSQPBeblV"
      }
    },
    {
      "cell_type": "code",
      "execution_count": null,
      "metadata": {
        "id": "mvsMsNAYo1WD",
        "colab": {
          "base_uri": "https://localhost:8080/",
          "height": 206
        },
        "outputId": "303d307f-4158-4742-bf61-f614ae328443"
      },
      "outputs": [
        {
          "output_type": "execute_result",
          "data": {
            "text/plain": [
              "          AGE       SEX       BMI        BP        S1        S2        S3  \\\n",
              "246  0.880549 -0.923573 -0.678927 -1.292722  1.678453  1.072260  1.179208   \n",
              "425 -1.627292 -0.923573 -0.858406 -1.702184 -2.097449 -2.351121  0.482966   \n",
              "293 -1.475302 -0.923573  1.923531  0.271467  0.439035  0.895527  0.018804   \n",
              "31  -0.487365 -0.923573 -1.374411 -1.702184 -0.800383 -1.113991  1.256568   \n",
              "359  0.804554  1.080025  0.106298  0.680929  0.150798  0.371874 -0.522717   \n",
              "\n",
              "           S4        S5        S6         Y  \n",
              "246 -0.202277  0.963141 -1.241175 -0.960557  \n",
              "425 -1.597924 -0.422665 -1.065445  0.009443  \n",
              "293  0.014824 -1.148812 -0.011066  0.638633  \n",
              "31  -1.597924 -0.779650 -0.889715 -1.209611  \n",
              "359  0.728154  0.321844  1.306908  2.093633  "
            ],
            "text/html": [
              "\n",
              "  <div id=\"df-7f6a70f1-2a48-498a-a92a-9e57ac7656e6\">\n",
              "    <div class=\"colab-df-container\">\n",
              "      <div>\n",
              "<style scoped>\n",
              "    .dataframe tbody tr th:only-of-type {\n",
              "        vertical-align: middle;\n",
              "    }\n",
              "\n",
              "    .dataframe tbody tr th {\n",
              "        vertical-align: top;\n",
              "    }\n",
              "\n",
              "    .dataframe thead th {\n",
              "        text-align: right;\n",
              "    }\n",
              "</style>\n",
              "<table border=\"1\" class=\"dataframe\">\n",
              "  <thead>\n",
              "    <tr style=\"text-align: right;\">\n",
              "      <th></th>\n",
              "      <th>AGE</th>\n",
              "      <th>SEX</th>\n",
              "      <th>BMI</th>\n",
              "      <th>BP</th>\n",
              "      <th>S1</th>\n",
              "      <th>S2</th>\n",
              "      <th>S3</th>\n",
              "      <th>S4</th>\n",
              "      <th>S5</th>\n",
              "      <th>S6</th>\n",
              "      <th>Y</th>\n",
              "    </tr>\n",
              "  </thead>\n",
              "  <tbody>\n",
              "    <tr>\n",
              "      <th>246</th>\n",
              "      <td>0.880549</td>\n",
              "      <td>-0.923573</td>\n",
              "      <td>-0.678927</td>\n",
              "      <td>-1.292722</td>\n",
              "      <td>1.678453</td>\n",
              "      <td>1.072260</td>\n",
              "      <td>1.179208</td>\n",
              "      <td>-0.202277</td>\n",
              "      <td>0.963141</td>\n",
              "      <td>-1.241175</td>\n",
              "      <td>-0.960557</td>\n",
              "    </tr>\n",
              "    <tr>\n",
              "      <th>425</th>\n",
              "      <td>-1.627292</td>\n",
              "      <td>-0.923573</td>\n",
              "      <td>-0.858406</td>\n",
              "      <td>-1.702184</td>\n",
              "      <td>-2.097449</td>\n",
              "      <td>-2.351121</td>\n",
              "      <td>0.482966</td>\n",
              "      <td>-1.597924</td>\n",
              "      <td>-0.422665</td>\n",
              "      <td>-1.065445</td>\n",
              "      <td>0.009443</td>\n",
              "    </tr>\n",
              "    <tr>\n",
              "      <th>293</th>\n",
              "      <td>-1.475302</td>\n",
              "      <td>-0.923573</td>\n",
              "      <td>1.923531</td>\n",
              "      <td>0.271467</td>\n",
              "      <td>0.439035</td>\n",
              "      <td>0.895527</td>\n",
              "      <td>0.018804</td>\n",
              "      <td>0.014824</td>\n",
              "      <td>-1.148812</td>\n",
              "      <td>-0.011066</td>\n",
              "      <td>0.638633</td>\n",
              "    </tr>\n",
              "    <tr>\n",
              "      <th>31</th>\n",
              "      <td>-0.487365</td>\n",
              "      <td>-0.923573</td>\n",
              "      <td>-1.374411</td>\n",
              "      <td>-1.702184</td>\n",
              "      <td>-0.800383</td>\n",
              "      <td>-1.113991</td>\n",
              "      <td>1.256568</td>\n",
              "      <td>-1.597924</td>\n",
              "      <td>-0.779650</td>\n",
              "      <td>-0.889715</td>\n",
              "      <td>-1.209611</td>\n",
              "    </tr>\n",
              "    <tr>\n",
              "      <th>359</th>\n",
              "      <td>0.804554</td>\n",
              "      <td>1.080025</td>\n",
              "      <td>0.106298</td>\n",
              "      <td>0.680929</td>\n",
              "      <td>0.150798</td>\n",
              "      <td>0.371874</td>\n",
              "      <td>-0.522717</td>\n",
              "      <td>0.728154</td>\n",
              "      <td>0.321844</td>\n",
              "      <td>1.306908</td>\n",
              "      <td>2.093633</td>\n",
              "    </tr>\n",
              "  </tbody>\n",
              "</table>\n",
              "</div>\n",
              "      <button class=\"colab-df-convert\" onclick=\"convertToInteractive('df-7f6a70f1-2a48-498a-a92a-9e57ac7656e6')\"\n",
              "              title=\"Convert this dataframe to an interactive table.\"\n",
              "              style=\"display:none;\">\n",
              "        \n",
              "  <svg xmlns=\"http://www.w3.org/2000/svg\" height=\"24px\"viewBox=\"0 0 24 24\"\n",
              "       width=\"24px\">\n",
              "    <path d=\"M0 0h24v24H0V0z\" fill=\"none\"/>\n",
              "    <path d=\"M18.56 5.44l.94 2.06.94-2.06 2.06-.94-2.06-.94-.94-2.06-.94 2.06-2.06.94zm-11 1L8.5 8.5l.94-2.06 2.06-.94-2.06-.94L8.5 2.5l-.94 2.06-2.06.94zm10 10l.94 2.06.94-2.06 2.06-.94-2.06-.94-.94-2.06-.94 2.06-2.06.94z\"/><path d=\"M17.41 7.96l-1.37-1.37c-.4-.4-.92-.59-1.43-.59-.52 0-1.04.2-1.43.59L10.3 9.45l-7.72 7.72c-.78.78-.78 2.05 0 2.83L4 21.41c.39.39.9.59 1.41.59.51 0 1.02-.2 1.41-.59l7.78-7.78 2.81-2.81c.8-.78.8-2.07 0-2.86zM5.41 20L4 18.59l7.72-7.72 1.47 1.35L5.41 20z\"/>\n",
              "  </svg>\n",
              "      </button>\n",
              "      \n",
              "  <style>\n",
              "    .colab-df-container {\n",
              "      display:flex;\n",
              "      flex-wrap:wrap;\n",
              "      gap: 12px;\n",
              "    }\n",
              "\n",
              "    .colab-df-convert {\n",
              "      background-color: #E8F0FE;\n",
              "      border: none;\n",
              "      border-radius: 50%;\n",
              "      cursor: pointer;\n",
              "      display: none;\n",
              "      fill: #1967D2;\n",
              "      height: 32px;\n",
              "      padding: 0 0 0 0;\n",
              "      width: 32px;\n",
              "    }\n",
              "\n",
              "    .colab-df-convert:hover {\n",
              "      background-color: #E2EBFA;\n",
              "      box-shadow: 0px 1px 2px rgba(60, 64, 67, 0.3), 0px 1px 3px 1px rgba(60, 64, 67, 0.15);\n",
              "      fill: #174EA6;\n",
              "    }\n",
              "\n",
              "    [theme=dark] .colab-df-convert {\n",
              "      background-color: #3B4455;\n",
              "      fill: #D2E3FC;\n",
              "    }\n",
              "\n",
              "    [theme=dark] .colab-df-convert:hover {\n",
              "      background-color: #434B5C;\n",
              "      box-shadow: 0px 1px 3px 1px rgba(0, 0, 0, 0.15);\n",
              "      filter: drop-shadow(0px 1px 2px rgba(0, 0, 0, 0.3));\n",
              "      fill: #FFFFFF;\n",
              "    }\n",
              "  </style>\n",
              "\n",
              "      <script>\n",
              "        const buttonEl =\n",
              "          document.querySelector('#df-7f6a70f1-2a48-498a-a92a-9e57ac7656e6 button.colab-df-convert');\n",
              "        buttonEl.style.display =\n",
              "          google.colab.kernel.accessAllowed ? 'block' : 'none';\n",
              "\n",
              "        async function convertToInteractive(key) {\n",
              "          const element = document.querySelector('#df-7f6a70f1-2a48-498a-a92a-9e57ac7656e6');\n",
              "          const dataTable =\n",
              "            await google.colab.kernel.invokeFunction('convertToInteractive',\n",
              "                                                     [key], {});\n",
              "          if (!dataTable) return;\n",
              "\n",
              "          const docLinkHtml = 'Like what you see? Visit the ' +\n",
              "            '<a target=\"_blank\" href=https://colab.research.google.com/notebooks/data_table.ipynb>data table notebook</a>'\n",
              "            + ' to learn more about interactive tables.';\n",
              "          element.innerHTML = '';\n",
              "          dataTable['output_type'] = 'display_data';\n",
              "          await google.colab.output.renderOutput(dataTable, element);\n",
              "          const docLink = document.createElement('div');\n",
              "          docLink.innerHTML = docLinkHtml;\n",
              "          element.appendChild(docLink);\n",
              "        }\n",
              "      </script>\n",
              "    </div>\n",
              "  </div>\n",
              "  "
            ]
          },
          "metadata": {},
          "execution_count": 44
        }
      ],
      "source": [
        "# Normalizamos conjunto de entrenamiento.\n",
        "df_train_norm = (df_train - df_train.mean()) / df_train.std()\n",
        "df_train_norm.head()"
      ]
    },
    {
      "cell_type": "markdown",
      "source": [
        "Es importante notar que la normalización de las muestras de prueba se realiza con los valores de $\\mu$ y $\\sigma$ obtenidos con las muestras empleadas para el entrenamiento"
      ],
      "metadata": {
        "id": "X-mBznkrfArg"
      }
    },
    {
      "cell_type": "code",
      "source": [
        "# Normalizamos conjunto test.\n",
        "df_test_norm = (df_test - df_train.mean()) / df_train.std()\n",
        "df_test_norm.head()"
      ],
      "metadata": {
        "colab": {
          "base_uri": "https://localhost:8080/",
          "height": 206
        },
        "id": "i3C963jYe4vZ",
        "outputId": "b700dd5b-4246-4848-cede-ac16774d9fa7"
      },
      "execution_count": null,
      "outputs": [
        {
          "output_type": "execute_result",
          "data": {
            "text/plain": [
              "          AGE       SEX       BMI        BP        S1        S2        S3  \\\n",
              "410 -0.183384  1.080025 -0.589187  0.175420  1.015508  0.784251 -0.600078   \n",
              "216  0.272587  1.080025  0.734477  1.042007  1.130803  1.556639 -1.451040   \n",
              "264  0.728558  1.080025  0.577432 -0.691166 -0.944502 -0.197598 -1.064239   \n",
              "209  0.804554  1.080025 -0.387272  1.403084 -1.059796 -0.341603 -1.605760   \n",
              "316  0.348582  1.080025  0.285778  0.030989  0.035503 -0.439788 -0.677438   \n",
              "\n",
              "           S4        S5        S6         Y  \n",
              "410  0.728154  1.408068 -0.889715  0.756606  \n",
              "216  3.054233  0.974545  1.043313  1.267822  \n",
              "264 -0.047205 -1.253375 -0.450391 -0.082314  \n",
              "209  0.728154 -0.244655 -0.274661 -0.973665  \n",
              "316  0.728154  1.597094  0.867583  0.900795  "
            ],
            "text/html": [
              "\n",
              "  <div id=\"df-4c83f30c-1f1d-42c8-9094-7f505ebfb20a\">\n",
              "    <div class=\"colab-df-container\">\n",
              "      <div>\n",
              "<style scoped>\n",
              "    .dataframe tbody tr th:only-of-type {\n",
              "        vertical-align: middle;\n",
              "    }\n",
              "\n",
              "    .dataframe tbody tr th {\n",
              "        vertical-align: top;\n",
              "    }\n",
              "\n",
              "    .dataframe thead th {\n",
              "        text-align: right;\n",
              "    }\n",
              "</style>\n",
              "<table border=\"1\" class=\"dataframe\">\n",
              "  <thead>\n",
              "    <tr style=\"text-align: right;\">\n",
              "      <th></th>\n",
              "      <th>AGE</th>\n",
              "      <th>SEX</th>\n",
              "      <th>BMI</th>\n",
              "      <th>BP</th>\n",
              "      <th>S1</th>\n",
              "      <th>S2</th>\n",
              "      <th>S3</th>\n",
              "      <th>S4</th>\n",
              "      <th>S5</th>\n",
              "      <th>S6</th>\n",
              "      <th>Y</th>\n",
              "    </tr>\n",
              "  </thead>\n",
              "  <tbody>\n",
              "    <tr>\n",
              "      <th>410</th>\n",
              "      <td>-0.183384</td>\n",
              "      <td>1.080025</td>\n",
              "      <td>-0.589187</td>\n",
              "      <td>0.175420</td>\n",
              "      <td>1.015508</td>\n",
              "      <td>0.784251</td>\n",
              "      <td>-0.600078</td>\n",
              "      <td>0.728154</td>\n",
              "      <td>1.408068</td>\n",
              "      <td>-0.889715</td>\n",
              "      <td>0.756606</td>\n",
              "    </tr>\n",
              "    <tr>\n",
              "      <th>216</th>\n",
              "      <td>0.272587</td>\n",
              "      <td>1.080025</td>\n",
              "      <td>0.734477</td>\n",
              "      <td>1.042007</td>\n",
              "      <td>1.130803</td>\n",
              "      <td>1.556639</td>\n",
              "      <td>-1.451040</td>\n",
              "      <td>3.054233</td>\n",
              "      <td>0.974545</td>\n",
              "      <td>1.043313</td>\n",
              "      <td>1.267822</td>\n",
              "    </tr>\n",
              "    <tr>\n",
              "      <th>264</th>\n",
              "      <td>0.728558</td>\n",
              "      <td>1.080025</td>\n",
              "      <td>0.577432</td>\n",
              "      <td>-0.691166</td>\n",
              "      <td>-0.944502</td>\n",
              "      <td>-0.197598</td>\n",
              "      <td>-1.064239</td>\n",
              "      <td>-0.047205</td>\n",
              "      <td>-1.253375</td>\n",
              "      <td>-0.450391</td>\n",
              "      <td>-0.082314</td>\n",
              "    </tr>\n",
              "    <tr>\n",
              "      <th>209</th>\n",
              "      <td>0.804554</td>\n",
              "      <td>1.080025</td>\n",
              "      <td>-0.387272</td>\n",
              "      <td>1.403084</td>\n",
              "      <td>-1.059796</td>\n",
              "      <td>-0.341603</td>\n",
              "      <td>-1.605760</td>\n",
              "      <td>0.728154</td>\n",
              "      <td>-0.244655</td>\n",
              "      <td>-0.274661</td>\n",
              "      <td>-0.973665</td>\n",
              "    </tr>\n",
              "    <tr>\n",
              "      <th>316</th>\n",
              "      <td>0.348582</td>\n",
              "      <td>1.080025</td>\n",
              "      <td>0.285778</td>\n",
              "      <td>0.030989</td>\n",
              "      <td>0.035503</td>\n",
              "      <td>-0.439788</td>\n",
              "      <td>-0.677438</td>\n",
              "      <td>0.728154</td>\n",
              "      <td>1.597094</td>\n",
              "      <td>0.867583</td>\n",
              "      <td>0.900795</td>\n",
              "    </tr>\n",
              "  </tbody>\n",
              "</table>\n",
              "</div>\n",
              "      <button class=\"colab-df-convert\" onclick=\"convertToInteractive('df-4c83f30c-1f1d-42c8-9094-7f505ebfb20a')\"\n",
              "              title=\"Convert this dataframe to an interactive table.\"\n",
              "              style=\"display:none;\">\n",
              "        \n",
              "  <svg xmlns=\"http://www.w3.org/2000/svg\" height=\"24px\"viewBox=\"0 0 24 24\"\n",
              "       width=\"24px\">\n",
              "    <path d=\"M0 0h24v24H0V0z\" fill=\"none\"/>\n",
              "    <path d=\"M18.56 5.44l.94 2.06.94-2.06 2.06-.94-2.06-.94-.94-2.06-.94 2.06-2.06.94zm-11 1L8.5 8.5l.94-2.06 2.06-.94-2.06-.94L8.5 2.5l-.94 2.06-2.06.94zm10 10l.94 2.06.94-2.06 2.06-.94-2.06-.94-.94-2.06-.94 2.06-2.06.94z\"/><path d=\"M17.41 7.96l-1.37-1.37c-.4-.4-.92-.59-1.43-.59-.52 0-1.04.2-1.43.59L10.3 9.45l-7.72 7.72c-.78.78-.78 2.05 0 2.83L4 21.41c.39.39.9.59 1.41.59.51 0 1.02-.2 1.41-.59l7.78-7.78 2.81-2.81c.8-.78.8-2.07 0-2.86zM5.41 20L4 18.59l7.72-7.72 1.47 1.35L5.41 20z\"/>\n",
              "  </svg>\n",
              "      </button>\n",
              "      \n",
              "  <style>\n",
              "    .colab-df-container {\n",
              "      display:flex;\n",
              "      flex-wrap:wrap;\n",
              "      gap: 12px;\n",
              "    }\n",
              "\n",
              "    .colab-df-convert {\n",
              "      background-color: #E8F0FE;\n",
              "      border: none;\n",
              "      border-radius: 50%;\n",
              "      cursor: pointer;\n",
              "      display: none;\n",
              "      fill: #1967D2;\n",
              "      height: 32px;\n",
              "      padding: 0 0 0 0;\n",
              "      width: 32px;\n",
              "    }\n",
              "\n",
              "    .colab-df-convert:hover {\n",
              "      background-color: #E2EBFA;\n",
              "      box-shadow: 0px 1px 2px rgba(60, 64, 67, 0.3), 0px 1px 3px 1px rgba(60, 64, 67, 0.15);\n",
              "      fill: #174EA6;\n",
              "    }\n",
              "\n",
              "    [theme=dark] .colab-df-convert {\n",
              "      background-color: #3B4455;\n",
              "      fill: #D2E3FC;\n",
              "    }\n",
              "\n",
              "    [theme=dark] .colab-df-convert:hover {\n",
              "      background-color: #434B5C;\n",
              "      box-shadow: 0px 1px 3px 1px rgba(0, 0, 0, 0.15);\n",
              "      filter: drop-shadow(0px 1px 2px rgba(0, 0, 0, 0.3));\n",
              "      fill: #FFFFFF;\n",
              "    }\n",
              "  </style>\n",
              "\n",
              "      <script>\n",
              "        const buttonEl =\n",
              "          document.querySelector('#df-4c83f30c-1f1d-42c8-9094-7f505ebfb20a button.colab-df-convert');\n",
              "        buttonEl.style.display =\n",
              "          google.colab.kernel.accessAllowed ? 'block' : 'none';\n",
              "\n",
              "        async function convertToInteractive(key) {\n",
              "          const element = document.querySelector('#df-4c83f30c-1f1d-42c8-9094-7f505ebfb20a');\n",
              "          const dataTable =\n",
              "            await google.colab.kernel.invokeFunction('convertToInteractive',\n",
              "                                                     [key], {});\n",
              "          if (!dataTable) return;\n",
              "\n",
              "          const docLinkHtml = 'Like what you see? Visit the ' +\n",
              "            '<a target=\"_blank\" href=https://colab.research.google.com/notebooks/data_table.ipynb>data table notebook</a>'\n",
              "            + ' to learn more about interactive tables.';\n",
              "          element.innerHTML = '';\n",
              "          dataTable['output_type'] = 'display_data';\n",
              "          await google.colab.output.renderOutput(dataTable, element);\n",
              "          const docLink = document.createElement('div');\n",
              "          docLink.innerHTML = docLinkHtml;\n",
              "          element.appendChild(docLink);\n",
              "        }\n",
              "      </script>\n",
              "    </div>\n",
              "  </div>\n",
              "  "
            ]
          },
          "metadata": {},
          "execution_count": 45
        }
      ]
    },
    {
      "cell_type": "markdown",
      "metadata": {
        "id": "uG_hXbBto1WE"
      },
      "source": [
        "<font size=4>7. Convierte los valores normalizados de cada conjunto en arreglos de Numpy. Define dos variables para las X y las Y del conjunto de entrenamiento, y lo mismo para el conjunto test."
      ]
    },
    {
      "cell_type": "code",
      "execution_count": null,
      "metadata": {
        "id": "nz6txDo9o1WE",
        "colab": {
          "base_uri": "https://localhost:8080/"
        },
        "outputId": "9613d6ee-42ea-41e6-8a1d-fafa28b00a1d"
      },
      "outputs": [
        {
          "output_type": "stream",
          "name": "stdout",
          "text": [
            "<class 'numpy.ndarray'> <class 'numpy.ndarray'>\n",
            "(397, 10)\n",
            "(397, 1)\n"
          ]
        }
      ],
      "source": [
        "# Conjunto de entrenamiento.\n",
        "# Extraemos los valores del dataframe y lso convertimos en arreglos de Numpy.\n",
        "x_train = df_train_norm.values[:,:-1]\n",
        "y_train = df_train_norm.values[:,-1:]\n",
        "\n",
        "# Imprimimos el tipo de nuestras variables.\n",
        "print(type(x_train), type(y_train))\n",
        "\n",
        "# Imprimimos las dimensiones de las variables.\n",
        "print(x_train.shape)\n",
        "print(y_train.shape)"
      ]
    },
    {
      "cell_type": "code",
      "source": [
        "# Repetimos para el conjunto test.\n",
        "x_test = df_test_norm.values[:,:-1]\n",
        "y_test = df_test_norm.values[:,-1:]\n",
        "print(type(x_test), type(y_test))\n",
        "print(x_test.shape)\n",
        "print(y_test.shape)"
      ],
      "metadata": {
        "colab": {
          "base_uri": "https://localhost:8080/"
        },
        "id": "Ce7LHUwUzWJo",
        "outputId": "2ccf883f-09f3-4f09-a77d-685cdfe69297"
      },
      "execution_count": null,
      "outputs": [
        {
          "output_type": "stream",
          "name": "stdout",
          "text": [
            "<class 'numpy.ndarray'> <class 'numpy.ndarray'>\n",
            "(45, 10)\n",
            "(45, 1)\n"
          ]
        }
      ]
    },
    {
      "cell_type": "markdown",
      "metadata": {
        "id": "1R8EEpKOo1WF"
      },
      "source": [
        "<font size=5 color='blue'>\n",
        "\n",
        "# <center> Artificial Neural Networks </center>\n",
        "\n",
        "\n"
      ]
    },
    {
      "cell_type": "markdown",
      "metadata": {
        "id": "gtnQ62tMo1WJ"
      },
      "source": [
        "<font size=5 color='blue'>\n",
        "    \n",
        "Definición de la arquitectura de la red neuronal."
      ]
    },
    {
      "cell_type": "code",
      "execution_count": null,
      "metadata": {
        "ExecuteTime": {
          "end_time": "2020-10-19T12:30:27.253736Z",
          "start_time": "2020-10-19T12:30:27.068319Z"
        },
        "id": "QqlFoxDpo1WK"
      },
      "outputs": [],
      "source": [
        "import networkx as nx\n",
        "\n",
        "class Network(object):\n",
        "    \n",
        "    def  __init__ (self,sizes):\n",
        "        self.num_layers = len(sizes)\n",
        "        print(\"It has\", self.num_layers, \"layers,\")\n",
        "        self.sizes = sizes\n",
        "        print(\"with the following number of nodes per layer\",self.sizes)\n",
        "        self.biases = [np.random.randn(y, 1) for y in sizes[1:]]\n",
        "        self.weights = [np.random.randn(y, x)\n",
        "                        for x, y in zip(sizes[:-1], sizes[1:])]\n",
        "        \n",
        "    def feedforward(self, x_of_sample):\n",
        "        \"\"\"Return the output of the network F(x_of_sample) \"\"\"        \n",
        "        for b, w in zip(self.biases, self.weights):\n",
        "            x_of_sample = sigmoid(np.dot(w, x_of_sample)+b)\n",
        "        return x_of_sample\n",
        "    \n",
        "    def graph(self,sizes):\n",
        "        a=[]\n",
        "        ps={}\n",
        "        Q = nx.Graph()\n",
        "        for i in range(len(sizes)):\n",
        "            Qi=nx.Graph()    \n",
        "            n=sizes[i]\n",
        "            nodos=np.arange(n)\n",
        "            Qi.add_nodes_from(nodos)\n",
        "            l_i=Qi.nodes\n",
        "            Q = nx.union(Q, Qi, rename = (None, 'Q%i-'%i))\n",
        "            if len(l_i)==1:\n",
        "                ps['Q%i-0'%i]=[i/(len(sizes)), 1/2]\n",
        "            else:\n",
        "                for j in range(len(l_i)+1):\n",
        "                    ps['Q%i-%i'%(i,j)]=[i/(len(sizes)),(1/(len(l_i)*len(l_i)))+(j/(len(l_i)))]\n",
        "            a.insert(i,Qi)\n",
        "        for i in range(len(a)-1):\n",
        "            for j in range(len(a[i])):\n",
        "                for k in range(len(a[i+1])):\n",
        "                    Q.add_edge('Q%i-%i' %(i,j),'Q%i-%i' %(i+1,k))\n",
        "        nx.draw(Q, pos = ps)\n",
        "                "
      ]
    },
    {
      "cell_type": "markdown",
      "metadata": {
        "id": "SQQSLrhAo1WL"
      },
      "source": [
        "<font size=4>8. Utilizando la clase Network de la celda anterior, realiza el esquema de una red neuronal feed forward, que tenga las siguientes características:\n",
        "    \n",
        "    * 10 neuronas en la capa de entrada\n",
        "    \n",
        "    * 5 neuronas en la capa oculta\n",
        "    \n",
        "    * 1 neurona en la capa de salida"
      ]
    },
    {
      "cell_type": "code",
      "execution_count": null,
      "metadata": {
        "id": "5mLtPffho1WM",
        "colab": {
          "base_uri": "https://localhost:8080/",
          "height": 354
        },
        "outputId": "67a273c6-1060-481a-a2d1-24ae21b5dbcd"
      },
      "outputs": [
        {
          "output_type": "stream",
          "name": "stdout",
          "text": [
            "It has 3 layers,\n",
            "with the following number of nodes per layer [10, 5, 1]\n"
          ]
        },
        {
          "output_type": "display_data",
          "data": {
            "text/plain": [
              "<Figure size 432x288 with 1 Axes>"
            ],
            "image/png": "[encoded data removed]"
          },
          "metadata": {}
        }
      ],
      "source": [
        "layers = [ 10, 5, 1]\n",
        "net = Network(layers)\n",
        "net.graph(layers)"
      ]
    },
    {
      "cell_type": "markdown",
      "metadata": {
        "id": "kMS0WyXHo1WM"
      },
      "source": [
        "<font size=4>9. Define una función llamada *architecture*, la cual reciba como parámetros de entrada la dimensión de entrada, así como una función de activación. La función debe crear, utilizando la API de Keras, un modelo secuencial, cuyas capas representen el modelo que graficaste en el paso anterior. Los pesos deben ser inicializados con valores de una distribución uniforme, mientras que los bias se deben inicializar en ceros."
      ]
    },
    {
      "cell_type": "code",
      "execution_count": null,
      "metadata": {
        "id": "fNcZQ0PQo1WN"
      },
      "outputs": [],
      "source": [
        "def architecture(input_shape, activation):\n",
        "    \n",
        "    model = Sequential()\n",
        "        \n",
        "    model.add(Dense(5, kernel_initializer='uniform', bias_initializer='zeros', \n",
        "                    activation=activation, \n",
        "                    input_shape=input_shape))    \n",
        "    model.add(Dense(1, kernel_initializer='uniform', bias_initializer='zeros', \n",
        "                    activation = activation))\n",
        "    \n",
        "    return model"
      ]
    },
    {
      "cell_type": "markdown",
      "metadata": {
        "id": "acdcbbY1o1WN"
      },
      "source": [
        "<font size=4>10. Inicializa tu red neuronal, en una variable llamada *model_keras*. Utiliza la tangente hiperbólica como función de activación."
      ]
    },
    {
      "cell_type": "code",
      "execution_count": null,
      "metadata": {
        "id": "Y6oNNo7lo1WN"
      },
      "outputs": [],
      "source": [
        "input_shape = (10,)\n",
        "activation = 'tanh'\n",
        "\n",
        "# Inicializamos.\n",
        "model_keras = architecture(input_shape = input_shape, activation = activation)"
      ]
    },
    {
      "cell_type": "markdown",
      "metadata": {
        "id": "klWGpgzto1WO"
      },
      "source": [
        "<font size=4>11. Utiliza la función *plot_model* para mostrar la información de la red neuronal que definiste previamente"
      ]
    },
    {
      "cell_type": "code",
      "execution_count": null,
      "metadata": {
        "id": "F1pAk39ao1WO",
        "colab": {
          "base_uri": "https://localhost:8080/",
          "height": 312
        },
        "outputId": "b7d3ce4c-4ca9-4b3d-c3e8-0ef5956d8ecf"
      },
      "outputs": [
        {
          "output_type": "execute_result",
          "data": {
            "image/png": "[encoded data removed]",
            "text/plain": [
              "<IPython.core.display.Image object>"
            ]
          },
          "metadata": {},
          "execution_count": 52
        }
      ],
      "source": [
        "plot_model(model_keras, to_file='model.png', show_shapes=True, rankdir='TB', \n",
        "      expand_nested=True, show_layer_names=True, dpi=96)"
      ]
    },
    {
      "cell_type": "markdown",
      "metadata": {
        "id": "ozBFxeiTo1WO"
      },
      "source": [
        "<font size=4>12. Utilizando el método *summary* de tu red neuronal, contesta la siguiente pregunta:\n",
        "    \n",
        "    * ¿Cuántos parámetros entrenables contiene tu modelo?\n",
        "\n",
        "      61 parámetros entrenables del modelo."
      ]
    },
    {
      "cell_type": "code",
      "execution_count": null,
      "metadata": {
        "id": "cKOLFL7Do1WO",
        "colab": {
          "base_uri": "https://localhost:8080/"
        },
        "outputId": "00f2d7ac-2c45-4714-ee5c-9d5de5d57ecd"
      },
      "outputs": [
        {
          "output_type": "stream",
          "name": "stdout",
          "text": [
            "Model: \"sequential_1\"\n",
            "_________________________________________________________________\n",
            " Layer (type)                Output Shape              Param #   \n",
            "=================================================================\n",
            " dense_2 (Dense)             (None, 5)                 55        \n",
            "                                                                 \n",
            " dense_3 (Dense)             (None, 1)                 6         \n",
            "                                                                 \n",
            "=================================================================\n",
            "Total params: 61\n",
            "Trainable params: 61\n",
            "Non-trainable params: 0\n",
            "_________________________________________________________________\n"
          ]
        }
      ],
      "source": [
        "# Método summary.\n",
        "model_keras.summary()"
      ]
    },
    {
      "cell_type": "markdown",
      "metadata": {
        "id": "DybTLJcro1WO"
      },
      "source": [
        "<font size=4>13. Realiza la compilación de tu modelo con los siguiente hiperparámetros:\n",
        "    \n",
        "    * Utilliza un learning rate de 0.0001\n",
        "    \n",
        "    * Utiliza el optimizador Adam\n",
        "    \n",
        "    * La función de costo y la precisión estarán dados por el Error Cuadrático Medio"
      ]
    },
    {
      "cell_type": "code",
      "execution_count": null,
      "metadata": {
        "id": "-IWizlodo1WP"
      },
      "outputs": [],
      "source": [
        "# Compilamos.\n",
        "\n",
        "# Learning rate.\n",
        "lr = 0.0001\n",
        "# Optimizador.\n",
        "opt = Adam(learning_rate=lr)\n",
        "# Función costo.\n",
        "loss = tf.keras.losses.MeanSquaredError()\n",
        "# Precisión.\n",
        "acc = tf.keras.metrics.MeanSquaredError()\n",
        "\n",
        "model_keras.compile(loss=loss, \n",
        "              optimizer=opt,\n",
        "              metrics=[acc])"
      ]
    },
    {
      "cell_type": "markdown",
      "metadata": {
        "id": "kEfz_s55o1WP"
      },
      "source": [
        "<font size=4> 14. Realiza el entrenamiento de tu red neuronal, usando 200 épocas, 32 registros por lote y con una división del conjunto de aprendizaje en 90-10 para los conjuntos de entrenamiento y validación. Mide también el tiempo que le llevó a tu computadora realizar este entrenamiento"
      ]
    },
    {
      "cell_type": "code",
      "execution_count": null,
      "metadata": {
        "id": "5yX5ZUTpo1WP",
        "colab": {
          "base_uri": "https://localhost:8080/"
        },
        "outputId": "4cc1b411-bb7e-44cc-9cc8-4f92759f17bd"
      },
      "outputs": [
        {
          "output_type": "stream",
          "name": "stdout",
          "text": [
            "Epoch 1/200\n",
            "12/12 - 0s - loss: 0.5714 - mean_squared_error: 0.5714 - val_loss: 0.5819 - val_mean_squared_error: 0.5819 - 458ms/epoch - 38ms/step\n",
            "Epoch 2/200\n",
            "12/12 - 0s - loss: 0.5707 - mean_squared_error: 0.5707 - val_loss: 0.5811 - val_mean_squared_error: 0.5811 - 36ms/epoch - 3ms/step\n",
            "Epoch 3/200\n",
            "12/12 - 0s - loss: 0.5698 - mean_squared_error: 0.5698 - val_loss: 0.5804 - val_mean_squared_error: 0.5804 - 38ms/epoch - 3ms/step\n",
            "Epoch 4/200\n",
            "12/12 - 0s - loss: 0.5693 - mean_squared_error: 0.5693 - val_loss: 0.5797 - val_mean_squared_error: 0.5797 - 37ms/epoch - 3ms/step\n",
            "Epoch 5/200\n",
            "12/12 - 0s - loss: 0.5686 - mean_squared_error: 0.5686 - val_loss: 0.5791 - val_mean_squared_error: 0.5791 - 35ms/epoch - 3ms/step\n",
            "Epoch 6/200\n",
            "12/12 - 0s - loss: 0.5681 - mean_squared_error: 0.5681 - val_loss: 0.5784 - val_mean_squared_error: 0.5784 - 33ms/epoch - 3ms/step\n",
            "Epoch 7/200\n",
            "12/12 - 0s - loss: 0.5674 - mean_squared_error: 0.5674 - val_loss: 0.5778 - val_mean_squared_error: 0.5778 - 33ms/epoch - 3ms/step\n",
            "Epoch 8/200\n",
            "12/12 - 0s - loss: 0.5669 - mean_squared_error: 0.5669 - val_loss: 0.5772 - val_mean_squared_error: 0.5772 - 57ms/epoch - 5ms/step\n",
            "Epoch 9/200\n",
            "12/12 - 0s - loss: 0.5663 - mean_squared_error: 0.5663 - val_loss: 0.5765 - val_mean_squared_error: 0.5765 - 40ms/epoch - 3ms/step\n",
            "Epoch 10/200\n",
            "12/12 - 0s - loss: 0.5658 - mean_squared_error: 0.5658 - val_loss: 0.5761 - val_mean_squared_error: 0.5761 - 47ms/epoch - 4ms/step\n",
            "Epoch 11/200\n",
            "12/12 - 0s - loss: 0.5653 - mean_squared_error: 0.5653 - val_loss: 0.5755 - val_mean_squared_error: 0.5755 - 39ms/epoch - 3ms/step\n",
            "Epoch 12/200\n",
            "12/12 - 0s - loss: 0.5647 - mean_squared_error: 0.5647 - val_loss: 0.5748 - val_mean_squared_error: 0.5748 - 38ms/epoch - 3ms/step\n",
            "Epoch 13/200\n",
            "12/12 - 0s - loss: 0.5641 - mean_squared_error: 0.5641 - val_loss: 0.5740 - val_mean_squared_error: 0.5740 - 41ms/epoch - 3ms/step\n",
            "Epoch 14/200\n",
            "12/12 - 0s - loss: 0.5635 - mean_squared_error: 0.5635 - val_loss: 0.5734 - val_mean_squared_error: 0.5734 - 39ms/epoch - 3ms/step\n",
            "Epoch 15/200\n",
            "12/12 - 0s - loss: 0.5630 - mean_squared_error: 0.5630 - val_loss: 0.5728 - val_mean_squared_error: 0.5728 - 53ms/epoch - 4ms/step\n",
            "Epoch 16/200\n",
            "12/12 - 0s - loss: 0.5625 - mean_squared_error: 0.5625 - val_loss: 0.5722 - val_mean_squared_error: 0.5722 - 39ms/epoch - 3ms/step\n",
            "Epoch 17/200\n",
            "12/12 - 0s - loss: 0.5620 - mean_squared_error: 0.5620 - val_loss: 0.5716 - val_mean_squared_error: 0.5716 - 36ms/epoch - 3ms/step\n",
            "Epoch 18/200\n",
            "12/12 - 0s - loss: 0.5616 - mean_squared_error: 0.5616 - val_loss: 0.5712 - val_mean_squared_error: 0.5712 - 56ms/epoch - 5ms/step\n",
            "Epoch 19/200\n",
            "12/12 - 0s - loss: 0.5612 - mean_squared_error: 0.5612 - val_loss: 0.5708 - val_mean_squared_error: 0.5708 - 57ms/epoch - 5ms/step\n",
            "Epoch 20/200\n",
            "12/12 - 0s - loss: 0.5608 - mean_squared_error: 0.5608 - val_loss: 0.5703 - val_mean_squared_error: 0.5703 - 37ms/epoch - 3ms/step\n",
            "Epoch 21/200\n",
            "12/12 - 0s - loss: 0.5604 - mean_squared_error: 0.5604 - val_loss: 0.5700 - val_mean_squared_error: 0.5700 - 38ms/epoch - 3ms/step\n",
            "Epoch 22/200\n",
            "12/12 - 0s - loss: 0.5600 - mean_squared_error: 0.5600 - val_loss: 0.5695 - val_mean_squared_error: 0.5695 - 35ms/epoch - 3ms/step\n",
            "Epoch 23/200\n",
            "12/12 - 0s - loss: 0.5596 - mean_squared_error: 0.5596 - val_loss: 0.5692 - val_mean_squared_error: 0.5692 - 41ms/epoch - 3ms/step\n",
            "Epoch 24/200\n",
            "12/12 - 0s - loss: 0.5593 - mean_squared_error: 0.5593 - val_loss: 0.5688 - val_mean_squared_error: 0.5688 - 54ms/epoch - 4ms/step\n",
            "Epoch 25/200\n",
            "12/12 - 0s - loss: 0.5589 - mean_squared_error: 0.5589 - val_loss: 0.5687 - val_mean_squared_error: 0.5687 - 33ms/epoch - 3ms/step\n",
            "Epoch 26/200\n",
            "12/12 - 0s - loss: 0.5585 - mean_squared_error: 0.5585 - val_loss: 0.5682 - val_mean_squared_error: 0.5682 - 38ms/epoch - 3ms/step\n",
            "Epoch 27/200\n",
            "12/12 - 0s - loss: 0.5581 - mean_squared_error: 0.5581 - val_loss: 0.5678 - val_mean_squared_error: 0.5678 - 57ms/epoch - 5ms/step\n",
            "Epoch 28/200\n",
            "12/12 - 0s - loss: 0.5577 - mean_squared_error: 0.5577 - val_loss: 0.5672 - val_mean_squared_error: 0.5672 - 36ms/epoch - 3ms/step\n",
            "Epoch 29/200\n",
            "12/12 - 0s - loss: 0.5573 - mean_squared_error: 0.5573 - val_loss: 0.5667 - val_mean_squared_error: 0.5667 - 35ms/epoch - 3ms/step\n",
            "Epoch 30/200\n",
            "12/12 - 0s - loss: 0.5569 - mean_squared_error: 0.5569 - val_loss: 0.5662 - val_mean_squared_error: 0.5662 - 33ms/epoch - 3ms/step\n",
            "Epoch 31/200\n",
            "12/12 - 0s - loss: 0.5566 - mean_squared_error: 0.5566 - val_loss: 0.5657 - val_mean_squared_error: 0.5657 - 44ms/epoch - 4ms/step\n",
            "Epoch 32/200\n",
            "12/12 - 0s - loss: 0.5562 - mean_squared_error: 0.5562 - val_loss: 0.5652 - val_mean_squared_error: 0.5652 - 42ms/epoch - 3ms/step\n",
            "Epoch 33/200\n",
            "12/12 - 0s - loss: 0.5558 - mean_squared_error: 0.5558 - val_loss: 0.5648 - val_mean_squared_error: 0.5648 - 34ms/epoch - 3ms/step\n",
            "Epoch 34/200\n",
            "12/12 - 0s - loss: 0.5554 - mean_squared_error: 0.5554 - val_loss: 0.5643 - val_mean_squared_error: 0.5643 - 35ms/epoch - 3ms/step\n",
            "Epoch 35/200\n",
            "12/12 - 0s - loss: 0.5551 - mean_squared_error: 0.5551 - val_loss: 0.5638 - val_mean_squared_error: 0.5638 - 36ms/epoch - 3ms/step\n",
            "Epoch 36/200\n",
            "12/12 - 0s - loss: 0.5547 - mean_squared_error: 0.5547 - val_loss: 0.5632 - val_mean_squared_error: 0.5632 - 35ms/epoch - 3ms/step\n",
            "Epoch 37/200\n",
            "12/12 - 0s - loss: 0.5543 - mean_squared_error: 0.5543 - val_loss: 0.5628 - val_mean_squared_error: 0.5628 - 38ms/epoch - 3ms/step\n",
            "Epoch 38/200\n",
            "12/12 - 0s - loss: 0.5541 - mean_squared_error: 0.5541 - val_loss: 0.5625 - val_mean_squared_error: 0.5625 - 34ms/epoch - 3ms/step\n",
            "Epoch 39/200\n",
            "12/12 - 0s - loss: 0.5538 - mean_squared_error: 0.5538 - val_loss: 0.5621 - val_mean_squared_error: 0.5621 - 43ms/epoch - 4ms/step\n",
            "Epoch 40/200\n",
            "12/12 - 0s - loss: 0.5535 - mean_squared_error: 0.5535 - val_loss: 0.5618 - val_mean_squared_error: 0.5618 - 35ms/epoch - 3ms/step\n",
            "Epoch 41/200\n",
            "12/12 - 0s - loss: 0.5532 - mean_squared_error: 0.5532 - val_loss: 0.5616 - val_mean_squared_error: 0.5616 - 39ms/epoch - 3ms/step\n",
            "Epoch 42/200\n",
            "12/12 - 0s - loss: 0.5529 - mean_squared_error: 0.5529 - val_loss: 0.5615 - val_mean_squared_error: 0.5615 - 43ms/epoch - 4ms/step\n",
            "Epoch 43/200\n",
            "12/12 - 0s - loss: 0.5527 - mean_squared_error: 0.5527 - val_loss: 0.5613 - val_mean_squared_error: 0.5613 - 55ms/epoch - 5ms/step\n",
            "Epoch 44/200\n",
            "12/12 - 0s - loss: 0.5524 - mean_squared_error: 0.5524 - val_loss: 0.5611 - val_mean_squared_error: 0.5611 - 42ms/epoch - 4ms/step\n",
            "Epoch 45/200\n",
            "12/12 - 0s - loss: 0.5523 - mean_squared_error: 0.5523 - val_loss: 0.5607 - val_mean_squared_error: 0.5607 - 38ms/epoch - 3ms/step\n",
            "Epoch 46/200\n",
            "12/12 - 0s - loss: 0.5520 - mean_squared_error: 0.5520 - val_loss: 0.5601 - val_mean_squared_error: 0.5601 - 39ms/epoch - 3ms/step\n",
            "Epoch 47/200\n",
            "12/12 - 0s - loss: 0.5516 - mean_squared_error: 0.5516 - val_loss: 0.5597 - val_mean_squared_error: 0.5597 - 37ms/epoch - 3ms/step\n",
            "Epoch 48/200\n",
            "12/12 - 0s - loss: 0.5513 - mean_squared_error: 0.5513 - val_loss: 0.5592 - val_mean_squared_error: 0.5592 - 39ms/epoch - 3ms/step\n",
            "Epoch 49/200\n",
            "12/12 - 0s - loss: 0.5511 - mean_squared_error: 0.5511 - val_loss: 0.5587 - val_mean_squared_error: 0.5587 - 41ms/epoch - 3ms/step\n",
            "Epoch 50/200\n",
            "12/12 - 0s - loss: 0.5508 - mean_squared_error: 0.5508 - val_loss: 0.5583 - val_mean_squared_error: 0.5583 - 37ms/epoch - 3ms/step\n",
            "Epoch 51/200\n",
            "12/12 - 0s - loss: 0.5505 - mean_squared_error: 0.5505 - val_loss: 0.5580 - val_mean_squared_error: 0.5580 - 38ms/epoch - 3ms/step\n",
            "Epoch 52/200\n",
            "12/12 - 0s - loss: 0.5502 - mean_squared_error: 0.5502 - val_loss: 0.5576 - val_mean_squared_error: 0.5576 - 43ms/epoch - 4ms/step\n",
            "Epoch 53/200\n",
            "12/12 - 0s - loss: 0.5500 - mean_squared_error: 0.5500 - val_loss: 0.5573 - val_mean_squared_error: 0.5573 - 38ms/epoch - 3ms/step\n",
            "Epoch 54/200\n",
            "12/12 - 0s - loss: 0.5497 - mean_squared_error: 0.5497 - val_loss: 0.5569 - val_mean_squared_error: 0.5569 - 35ms/epoch - 3ms/step\n",
            "Epoch 55/200\n",
            "12/12 - 0s - loss: 0.5495 - mean_squared_error: 0.5495 - val_loss: 0.5566 - val_mean_squared_error: 0.5566 - 35ms/epoch - 3ms/step\n",
            "Epoch 56/200\n",
            "12/12 - 0s - loss: 0.5492 - mean_squared_error: 0.5492 - val_loss: 0.5562 - val_mean_squared_error: 0.5562 - 46ms/epoch - 4ms/step\n",
            "Epoch 57/200\n",
            "12/12 - 0s - loss: 0.5490 - mean_squared_error: 0.5490 - val_loss: 0.5560 - val_mean_squared_error: 0.5560 - 43ms/epoch - 4ms/step\n",
            "Epoch 58/200\n",
            "12/12 - 0s - loss: 0.5488 - mean_squared_error: 0.5488 - val_loss: 0.5558 - val_mean_squared_error: 0.5558 - 36ms/epoch - 3ms/step\n",
            "Epoch 59/200\n",
            "12/12 - 0s - loss: 0.5487 - mean_squared_error: 0.5487 - val_loss: 0.5559 - val_mean_squared_error: 0.5559 - 40ms/epoch - 3ms/step\n",
            "Epoch 60/200\n",
            "12/12 - 0s - loss: 0.5485 - mean_squared_error: 0.5485 - val_loss: 0.5557 - val_mean_squared_error: 0.5557 - 36ms/epoch - 3ms/step\n",
            "Epoch 61/200\n",
            "12/12 - 0s - loss: 0.5483 - mean_squared_error: 0.5483 - val_loss: 0.5553 - val_mean_squared_error: 0.5553 - 37ms/epoch - 3ms/step\n",
            "Epoch 62/200\n",
            "12/12 - 0s - loss: 0.5481 - mean_squared_error: 0.5481 - val_loss: 0.5550 - val_mean_squared_error: 0.5550 - 35ms/epoch - 3ms/step\n",
            "Epoch 63/200\n",
            "12/12 - 0s - loss: 0.5479 - mean_squared_error: 0.5479 - val_loss: 0.5548 - val_mean_squared_error: 0.5548 - 51ms/epoch - 4ms/step\n",
            "Epoch 64/200\n",
            "12/12 - 0s - loss: 0.5478 - mean_squared_error: 0.5478 - val_loss: 0.5548 - val_mean_squared_error: 0.5548 - 35ms/epoch - 3ms/step\n",
            "Epoch 65/200\n",
            "12/12 - 0s - loss: 0.5475 - mean_squared_error: 0.5475 - val_loss: 0.5546 - val_mean_squared_error: 0.5546 - 59ms/epoch - 5ms/step\n",
            "Epoch 66/200\n",
            "12/12 - 0s - loss: 0.5474 - mean_squared_error: 0.5474 - val_loss: 0.5543 - val_mean_squared_error: 0.5543 - 45ms/epoch - 4ms/step\n",
            "Epoch 67/200\n",
            "12/12 - 0s - loss: 0.5471 - mean_squared_error: 0.5471 - val_loss: 0.5540 - val_mean_squared_error: 0.5540 - 36ms/epoch - 3ms/step\n",
            "Epoch 68/200\n",
            "12/12 - 0s - loss: 0.5470 - mean_squared_error: 0.5470 - val_loss: 0.5538 - val_mean_squared_error: 0.5538 - 34ms/epoch - 3ms/step\n",
            "Epoch 69/200\n",
            "12/12 - 0s - loss: 0.5467 - mean_squared_error: 0.5467 - val_loss: 0.5535 - val_mean_squared_error: 0.5535 - 57ms/epoch - 5ms/step\n",
            "Epoch 70/200\n",
            "12/12 - 0s - loss: 0.5465 - mean_squared_error: 0.5465 - val_loss: 0.5533 - val_mean_squared_error: 0.5533 - 37ms/epoch - 3ms/step\n",
            "Epoch 71/200\n",
            "12/12 - 0s - loss: 0.5463 - mean_squared_error: 0.5463 - val_loss: 0.5532 - val_mean_squared_error: 0.5532 - 35ms/epoch - 3ms/step\n",
            "Epoch 72/200\n",
            "12/12 - 0s - loss: 0.5462 - mean_squared_error: 0.5462 - val_loss: 0.5531 - val_mean_squared_error: 0.5531 - 42ms/epoch - 3ms/step\n",
            "Epoch 73/200\n",
            "12/12 - 0s - loss: 0.5461 - mean_squared_error: 0.5461 - val_loss: 0.5528 - val_mean_squared_error: 0.5528 - 38ms/epoch - 3ms/step\n",
            "Epoch 74/200\n",
            "12/12 - 0s - loss: 0.5459 - mean_squared_error: 0.5459 - val_loss: 0.5526 - val_mean_squared_error: 0.5526 - 52ms/epoch - 4ms/step\n",
            "Epoch 75/200\n",
            "12/12 - 0s - loss: 0.5457 - mean_squared_error: 0.5457 - val_loss: 0.5525 - val_mean_squared_error: 0.5525 - 35ms/epoch - 3ms/step\n",
            "Epoch 76/200\n",
            "12/12 - 0s - loss: 0.5456 - mean_squared_error: 0.5456 - val_loss: 0.5522 - val_mean_squared_error: 0.5522 - 52ms/epoch - 4ms/step\n",
            "Epoch 77/200\n",
            "12/12 - 0s - loss: 0.5454 - mean_squared_error: 0.5454 - val_loss: 0.5521 - val_mean_squared_error: 0.5521 - 41ms/epoch - 3ms/step\n",
            "Epoch 78/200\n",
            "12/12 - 0s - loss: 0.5452 - mean_squared_error: 0.5452 - val_loss: 0.5518 - val_mean_squared_error: 0.5518 - 42ms/epoch - 4ms/step\n",
            "Epoch 79/200\n",
            "12/12 - 0s - loss: 0.5451 - mean_squared_error: 0.5451 - val_loss: 0.5515 - val_mean_squared_error: 0.5515 - 40ms/epoch - 3ms/step\n",
            "Epoch 80/200\n",
            "12/12 - 0s - loss: 0.5449 - mean_squared_error: 0.5449 - val_loss: 0.5512 - val_mean_squared_error: 0.5512 - 35ms/epoch - 3ms/step\n",
            "Epoch 81/200\n",
            "12/12 - 0s - loss: 0.5447 - mean_squared_error: 0.5447 - val_loss: 0.5508 - val_mean_squared_error: 0.5508 - 36ms/epoch - 3ms/step\n",
            "Epoch 82/200\n",
            "12/12 - 0s - loss: 0.5446 - mean_squared_error: 0.5446 - val_loss: 0.5506 - val_mean_squared_error: 0.5506 - 38ms/epoch - 3ms/step\n",
            "Epoch 83/200\n",
            "12/12 - 0s - loss: 0.5444 - mean_squared_error: 0.5444 - val_loss: 0.5503 - val_mean_squared_error: 0.5503 - 38ms/epoch - 3ms/step\n",
            "Epoch 84/200\n",
            "12/12 - 0s - loss: 0.5443 - mean_squared_error: 0.5443 - val_loss: 0.5501 - val_mean_squared_error: 0.5501 - 35ms/epoch - 3ms/step\n",
            "Epoch 85/200\n",
            "12/12 - 0s - loss: 0.5441 - mean_squared_error: 0.5441 - val_loss: 0.5499 - val_mean_squared_error: 0.5499 - 53ms/epoch - 4ms/step\n",
            "Epoch 86/200\n",
            "12/12 - 0s - loss: 0.5440 - mean_squared_error: 0.5440 - val_loss: 0.5497 - val_mean_squared_error: 0.5497 - 38ms/epoch - 3ms/step\n",
            "Epoch 87/200\n",
            "12/12 - 0s - loss: 0.5438 - mean_squared_error: 0.5438 - val_loss: 0.5495 - val_mean_squared_error: 0.5495 - 35ms/epoch - 3ms/step\n",
            "Epoch 88/200\n",
            "12/12 - 0s - loss: 0.5437 - mean_squared_error: 0.5437 - val_loss: 0.5493 - val_mean_squared_error: 0.5493 - 38ms/epoch - 3ms/step\n",
            "Epoch 89/200\n",
            "12/12 - 0s - loss: 0.5436 - mean_squared_error: 0.5436 - val_loss: 0.5491 - val_mean_squared_error: 0.5491 - 55ms/epoch - 5ms/step\n",
            "Epoch 90/200\n",
            "12/12 - 0s - loss: 0.5435 - mean_squared_error: 0.5435 - val_loss: 0.5490 - val_mean_squared_error: 0.5490 - 54ms/epoch - 5ms/step\n",
            "Epoch 91/200\n",
            "12/12 - 0s - loss: 0.5434 - mean_squared_error: 0.5434 - val_loss: 0.5490 - val_mean_squared_error: 0.5490 - 36ms/epoch - 3ms/step\n",
            "Epoch 92/200\n",
            "12/12 - 0s - loss: 0.5431 - mean_squared_error: 0.5431 - val_loss: 0.5484 - val_mean_squared_error: 0.5484 - 36ms/epoch - 3ms/step\n",
            "Epoch 93/200\n",
            "12/12 - 0s - loss: 0.5430 - mean_squared_error: 0.5430 - val_loss: 0.5482 - val_mean_squared_error: 0.5482 - 39ms/epoch - 3ms/step\n",
            "Epoch 94/200\n",
            "12/12 - 0s - loss: 0.5428 - mean_squared_error: 0.5428 - val_loss: 0.5479 - val_mean_squared_error: 0.5479 - 36ms/epoch - 3ms/step\n",
            "Epoch 95/200\n",
            "12/12 - 0s - loss: 0.5426 - mean_squared_error: 0.5426 - val_loss: 0.5476 - val_mean_squared_error: 0.5476 - 35ms/epoch - 3ms/step\n",
            "Epoch 96/200\n",
            "12/12 - 0s - loss: 0.5425 - mean_squared_error: 0.5425 - val_loss: 0.5472 - val_mean_squared_error: 0.5472 - 40ms/epoch - 3ms/step\n",
            "Epoch 97/200\n",
            "12/12 - 0s - loss: 0.5424 - mean_squared_error: 0.5424 - val_loss: 0.5469 - val_mean_squared_error: 0.5469 - 37ms/epoch - 3ms/step\n",
            "Epoch 98/200\n",
            "12/12 - 0s - loss: 0.5422 - mean_squared_error: 0.5422 - val_loss: 0.5466 - val_mean_squared_error: 0.5466 - 34ms/epoch - 3ms/step\n",
            "Epoch 99/200\n",
            "12/12 - 0s - loss: 0.5421 - mean_squared_error: 0.5421 - val_loss: 0.5463 - val_mean_squared_error: 0.5463 - 36ms/epoch - 3ms/step\n",
            "Epoch 100/200\n",
            "12/12 - 0s - loss: 0.5419 - mean_squared_error: 0.5419 - val_loss: 0.5460 - val_mean_squared_error: 0.5460 - 41ms/epoch - 3ms/step\n",
            "Epoch 101/200\n",
            "12/12 - 0s - loss: 0.5418 - mean_squared_error: 0.5418 - val_loss: 0.5459 - val_mean_squared_error: 0.5459 - 40ms/epoch - 3ms/step\n",
            "Epoch 102/200\n",
            "12/12 - 0s - loss: 0.5417 - mean_squared_error: 0.5417 - val_loss: 0.5458 - val_mean_squared_error: 0.5458 - 34ms/epoch - 3ms/step\n",
            "Epoch 103/200\n",
            "12/12 - 0s - loss: 0.5416 - mean_squared_error: 0.5416 - val_loss: 0.5457 - val_mean_squared_error: 0.5457 - 40ms/epoch - 3ms/step\n",
            "Epoch 104/200\n",
            "12/12 - 0s - loss: 0.5414 - mean_squared_error: 0.5414 - val_loss: 0.5456 - val_mean_squared_error: 0.5456 - 40ms/epoch - 3ms/step\n",
            "Epoch 105/200\n",
            "12/12 - 0s - loss: 0.5414 - mean_squared_error: 0.5414 - val_loss: 0.5454 - val_mean_squared_error: 0.5454 - 35ms/epoch - 3ms/step\n",
            "Epoch 106/200\n",
            "12/12 - 0s - loss: 0.5413 - mean_squared_error: 0.5413 - val_loss: 0.5452 - val_mean_squared_error: 0.5452 - 37ms/epoch - 3ms/step\n",
            "Epoch 107/200\n",
            "12/12 - 0s - loss: 0.5412 - mean_squared_error: 0.5412 - val_loss: 0.5449 - val_mean_squared_error: 0.5449 - 59ms/epoch - 5ms/step\n",
            "Epoch 108/200\n",
            "12/12 - 0s - loss: 0.5411 - mean_squared_error: 0.5411 - val_loss: 0.5448 - val_mean_squared_error: 0.5448 - 38ms/epoch - 3ms/step\n",
            "Epoch 109/200\n",
            "12/12 - 0s - loss: 0.5410 - mean_squared_error: 0.5410 - val_loss: 0.5446 - val_mean_squared_error: 0.5446 - 44ms/epoch - 4ms/step\n",
            "Epoch 110/200\n",
            "12/12 - 0s - loss: 0.5409 - mean_squared_error: 0.5409 - val_loss: 0.5444 - val_mean_squared_error: 0.5444 - 37ms/epoch - 3ms/step\n",
            "Epoch 111/200\n",
            "12/12 - 0s - loss: 0.5409 - mean_squared_error: 0.5409 - val_loss: 0.5443 - val_mean_squared_error: 0.5443 - 44ms/epoch - 4ms/step\n",
            "Epoch 112/200\n",
            "12/12 - 0s - loss: 0.5407 - mean_squared_error: 0.5407 - val_loss: 0.5441 - val_mean_squared_error: 0.5441 - 36ms/epoch - 3ms/step\n",
            "Epoch 113/200\n",
            "12/12 - 0s - loss: 0.5407 - mean_squared_error: 0.5407 - val_loss: 0.5438 - val_mean_squared_error: 0.5438 - 35ms/epoch - 3ms/step\n",
            "Epoch 114/200\n",
            "12/12 - 0s - loss: 0.5405 - mean_squared_error: 0.5405 - val_loss: 0.5435 - val_mean_squared_error: 0.5435 - 34ms/epoch - 3ms/step\n",
            "Epoch 115/200\n",
            "12/12 - 0s - loss: 0.5405 - mean_squared_error: 0.5405 - val_loss: 0.5433 - val_mean_squared_error: 0.5433 - 38ms/epoch - 3ms/step\n",
            "Epoch 116/200\n",
            "12/12 - 0s - loss: 0.5402 - mean_squared_error: 0.5402 - val_loss: 0.5432 - val_mean_squared_error: 0.5432 - 36ms/epoch - 3ms/step\n",
            "Epoch 117/200\n",
            "12/12 - 0s - loss: 0.5402 - mean_squared_error: 0.5402 - val_loss: 0.5431 - val_mean_squared_error: 0.5431 - 39ms/epoch - 3ms/step\n",
            "Epoch 118/200\n",
            "12/12 - 0s - loss: 0.5400 - mean_squared_error: 0.5400 - val_loss: 0.5430 - val_mean_squared_error: 0.5430 - 34ms/epoch - 3ms/step\n",
            "Epoch 119/200\n",
            "12/12 - 0s - loss: 0.5400 - mean_squared_error: 0.5400 - val_loss: 0.5430 - val_mean_squared_error: 0.5430 - 37ms/epoch - 3ms/step\n",
            "Epoch 120/200\n",
            "12/12 - 0s - loss: 0.5399 - mean_squared_error: 0.5399 - val_loss: 0.5429 - val_mean_squared_error: 0.5429 - 36ms/epoch - 3ms/step\n",
            "Epoch 121/200\n",
            "12/12 - 0s - loss: 0.5398 - mean_squared_error: 0.5398 - val_loss: 0.5427 - val_mean_squared_error: 0.5427 - 54ms/epoch - 5ms/step\n",
            "Epoch 122/200\n",
            "12/12 - 0s - loss: 0.5397 - mean_squared_error: 0.5397 - val_loss: 0.5425 - val_mean_squared_error: 0.5425 - 39ms/epoch - 3ms/step\n",
            "Epoch 123/200\n",
            "12/12 - 0s - loss: 0.5396 - mean_squared_error: 0.5396 - val_loss: 0.5423 - val_mean_squared_error: 0.5423 - 54ms/epoch - 4ms/step\n",
            "Epoch 124/200\n",
            "12/12 - 0s - loss: 0.5395 - mean_squared_error: 0.5395 - val_loss: 0.5421 - val_mean_squared_error: 0.5421 - 41ms/epoch - 3ms/step\n",
            "Epoch 125/200\n",
            "12/12 - 0s - loss: 0.5395 - mean_squared_error: 0.5395 - val_loss: 0.5419 - val_mean_squared_error: 0.5419 - 36ms/epoch - 3ms/step\n",
            "Epoch 126/200\n",
            "12/12 - 0s - loss: 0.5394 - mean_squared_error: 0.5394 - val_loss: 0.5415 - val_mean_squared_error: 0.5415 - 37ms/epoch - 3ms/step\n",
            "Epoch 127/200\n",
            "12/12 - 0s - loss: 0.5394 - mean_squared_error: 0.5394 - val_loss: 0.5411 - val_mean_squared_error: 0.5411 - 39ms/epoch - 3ms/step\n",
            "Epoch 128/200\n",
            "12/12 - 0s - loss: 0.5393 - mean_squared_error: 0.5393 - val_loss: 0.5410 - val_mean_squared_error: 0.5410 - 38ms/epoch - 3ms/step\n",
            "Epoch 129/200\n",
            "12/12 - 0s - loss: 0.5392 - mean_squared_error: 0.5392 - val_loss: 0.5409 - val_mean_squared_error: 0.5409 - 35ms/epoch - 3ms/step\n",
            "Epoch 130/200\n",
            "12/12 - 0s - loss: 0.5391 - mean_squared_error: 0.5391 - val_loss: 0.5407 - val_mean_squared_error: 0.5407 - 40ms/epoch - 3ms/step\n",
            "Epoch 131/200\n",
            "12/12 - 0s - loss: 0.5390 - mean_squared_error: 0.5390 - val_loss: 0.5405 - val_mean_squared_error: 0.5405 - 35ms/epoch - 3ms/step\n",
            "Epoch 132/200\n",
            "12/12 - 0s - loss: 0.5390 - mean_squared_error: 0.5390 - val_loss: 0.5403 - val_mean_squared_error: 0.5403 - 35ms/epoch - 3ms/step\n",
            "Epoch 133/200\n",
            "12/12 - 0s - loss: 0.5389 - mean_squared_error: 0.5389 - val_loss: 0.5402 - val_mean_squared_error: 0.5402 - 38ms/epoch - 3ms/step\n",
            "Epoch 134/200\n",
            "12/12 - 0s - loss: 0.5388 - mean_squared_error: 0.5388 - val_loss: 0.5401 - val_mean_squared_error: 0.5401 - 36ms/epoch - 3ms/step\n",
            "Epoch 135/200\n",
            "12/12 - 0s - loss: 0.5387 - mean_squared_error: 0.5387 - val_loss: 0.5399 - val_mean_squared_error: 0.5399 - 37ms/epoch - 3ms/step\n",
            "Epoch 136/200\n",
            "12/12 - 0s - loss: 0.5386 - mean_squared_error: 0.5386 - val_loss: 0.5398 - val_mean_squared_error: 0.5398 - 53ms/epoch - 4ms/step\n",
            "Epoch 137/200\n",
            "12/12 - 0s - loss: 0.5385 - mean_squared_error: 0.5385 - val_loss: 0.5397 - val_mean_squared_error: 0.5397 - 35ms/epoch - 3ms/step\n",
            "Epoch 138/200\n",
            "12/12 - 0s - loss: 0.5385 - mean_squared_error: 0.5385 - val_loss: 0.5395 - val_mean_squared_error: 0.5395 - 35ms/epoch - 3ms/step\n",
            "Epoch 139/200\n",
            "12/12 - 0s - loss: 0.5384 - mean_squared_error: 0.5384 - val_loss: 0.5390 - val_mean_squared_error: 0.5390 - 38ms/epoch - 3ms/step\n",
            "Epoch 140/200\n",
            "12/12 - 0s - loss: 0.5383 - mean_squared_error: 0.5383 - val_loss: 0.5388 - val_mean_squared_error: 0.5388 - 35ms/epoch - 3ms/step\n",
            "Epoch 141/200\n",
            "12/12 - 0s - loss: 0.5382 - mean_squared_error: 0.5382 - val_loss: 0.5386 - val_mean_squared_error: 0.5386 - 37ms/epoch - 3ms/step\n",
            "Epoch 142/200\n",
            "12/12 - 0s - loss: 0.5382 - mean_squared_error: 0.5382 - val_loss: 0.5384 - val_mean_squared_error: 0.5384 - 45ms/epoch - 4ms/step\n",
            "Epoch 143/200\n",
            "12/12 - 0s - loss: 0.5381 - mean_squared_error: 0.5381 - val_loss: 0.5382 - val_mean_squared_error: 0.5382 - 34ms/epoch - 3ms/step\n",
            "Epoch 144/200\n",
            "12/12 - 0s - loss: 0.5381 - mean_squared_error: 0.5381 - val_loss: 0.5381 - val_mean_squared_error: 0.5381 - 42ms/epoch - 4ms/step\n",
            "Epoch 145/200\n",
            "12/12 - 0s - loss: 0.5380 - mean_squared_error: 0.5380 - val_loss: 0.5379 - val_mean_squared_error: 0.5379 - 37ms/epoch - 3ms/step\n",
            "Epoch 146/200\n",
            "12/12 - 0s - loss: 0.5379 - mean_squared_error: 0.5379 - val_loss: 0.5377 - val_mean_squared_error: 0.5377 - 55ms/epoch - 5ms/step\n",
            "Epoch 147/200\n",
            "12/12 - 0s - loss: 0.5379 - mean_squared_error: 0.5379 - val_loss: 0.5377 - val_mean_squared_error: 0.5377 - 52ms/epoch - 4ms/step\n",
            "Epoch 148/200\n",
            "12/12 - 0s - loss: 0.5378 - mean_squared_error: 0.5378 - val_loss: 0.5374 - val_mean_squared_error: 0.5374 - 56ms/epoch - 5ms/step\n",
            "Epoch 149/200\n",
            "12/12 - 0s - loss: 0.5377 - mean_squared_error: 0.5377 - val_loss: 0.5373 - val_mean_squared_error: 0.5373 - 37ms/epoch - 3ms/step\n",
            "Epoch 150/200\n",
            "12/12 - 0s - loss: 0.5376 - mean_squared_error: 0.5376 - val_loss: 0.5371 - val_mean_squared_error: 0.5371 - 37ms/epoch - 3ms/step\n",
            "Epoch 151/200\n",
            "12/12 - 0s - loss: 0.5375 - mean_squared_error: 0.5375 - val_loss: 0.5369 - val_mean_squared_error: 0.5369 - 36ms/epoch - 3ms/step\n",
            "Epoch 152/200\n",
            "12/12 - 0s - loss: 0.5375 - mean_squared_error: 0.5375 - val_loss: 0.5367 - val_mean_squared_error: 0.5367 - 38ms/epoch - 3ms/step\n",
            "Epoch 153/200\n",
            "12/12 - 0s - loss: 0.5374 - mean_squared_error: 0.5374 - val_loss: 0.5365 - val_mean_squared_error: 0.5365 - 54ms/epoch - 5ms/step\n",
            "Epoch 154/200\n",
            "12/12 - 0s - loss: 0.5374 - mean_squared_error: 0.5374 - val_loss: 0.5364 - val_mean_squared_error: 0.5364 - 42ms/epoch - 4ms/step\n",
            "Epoch 155/200\n",
            "12/12 - 0s - loss: 0.5373 - mean_squared_error: 0.5373 - val_loss: 0.5362 - val_mean_squared_error: 0.5362 - 39ms/epoch - 3ms/step\n",
            "Epoch 156/200\n",
            "12/12 - 0s - loss: 0.5373 - mean_squared_error: 0.5373 - val_loss: 0.5360 - val_mean_squared_error: 0.5360 - 37ms/epoch - 3ms/step\n",
            "Epoch 157/200\n",
            "12/12 - 0s - loss: 0.5373 - mean_squared_error: 0.5373 - val_loss: 0.5360 - val_mean_squared_error: 0.5360 - 38ms/epoch - 3ms/step\n",
            "Epoch 158/200\n",
            "12/12 - 0s - loss: 0.5372 - mean_squared_error: 0.5372 - val_loss: 0.5359 - val_mean_squared_error: 0.5359 - 38ms/epoch - 3ms/step\n",
            "Epoch 159/200\n",
            "12/12 - 0s - loss: 0.5372 - mean_squared_error: 0.5372 - val_loss: 0.5358 - val_mean_squared_error: 0.5358 - 41ms/epoch - 3ms/step\n",
            "Epoch 160/200\n",
            "12/12 - 0s - loss: 0.5371 - mean_squared_error: 0.5371 - val_loss: 0.5357 - val_mean_squared_error: 0.5357 - 52ms/epoch - 4ms/step\n",
            "Epoch 161/200\n",
            "12/12 - 0s - loss: 0.5370 - mean_squared_error: 0.5370 - val_loss: 0.5356 - val_mean_squared_error: 0.5356 - 35ms/epoch - 3ms/step\n",
            "Epoch 162/200\n",
            "12/12 - 0s - loss: 0.5370 - mean_squared_error: 0.5370 - val_loss: 0.5352 - val_mean_squared_error: 0.5352 - 40ms/epoch - 3ms/step\n",
            "Epoch 163/200\n",
            "12/12 - 0s - loss: 0.5369 - mean_squared_error: 0.5369 - val_loss: 0.5351 - val_mean_squared_error: 0.5351 - 41ms/epoch - 3ms/step\n",
            "Epoch 164/200\n",
            "12/12 - 0s - loss: 0.5369 - mean_squared_error: 0.5369 - val_loss: 0.5350 - val_mean_squared_error: 0.5350 - 38ms/epoch - 3ms/step\n",
            "Epoch 165/200\n",
            "12/12 - 0s - loss: 0.5369 - mean_squared_error: 0.5369 - val_loss: 0.5348 - val_mean_squared_error: 0.5348 - 35ms/epoch - 3ms/step\n",
            "Epoch 166/200\n",
            "12/12 - 0s - loss: 0.5368 - mean_squared_error: 0.5368 - val_loss: 0.5347 - val_mean_squared_error: 0.5347 - 37ms/epoch - 3ms/step\n",
            "Epoch 167/200\n",
            "12/12 - 0s - loss: 0.5368 - mean_squared_error: 0.5368 - val_loss: 0.5345 - val_mean_squared_error: 0.5345 - 38ms/epoch - 3ms/step\n",
            "Epoch 168/200\n",
            "12/12 - 0s - loss: 0.5367 - mean_squared_error: 0.5367 - val_loss: 0.5345 - val_mean_squared_error: 0.5345 - 35ms/epoch - 3ms/step\n",
            "Epoch 169/200\n",
            "12/12 - 0s - loss: 0.5367 - mean_squared_error: 0.5367 - val_loss: 0.5344 - val_mean_squared_error: 0.5344 - 39ms/epoch - 3ms/step\n",
            "Epoch 170/200\n",
            "12/12 - 0s - loss: 0.5367 - mean_squared_error: 0.5367 - val_loss: 0.5344 - val_mean_squared_error: 0.5344 - 42ms/epoch - 4ms/step\n",
            "Epoch 171/200\n",
            "12/12 - 0s - loss: 0.5366 - mean_squared_error: 0.5366 - val_loss: 0.5342 - val_mean_squared_error: 0.5342 - 37ms/epoch - 3ms/step\n",
            "Epoch 172/200\n",
            "12/12 - 0s - loss: 0.5366 - mean_squared_error: 0.5366 - val_loss: 0.5341 - val_mean_squared_error: 0.5341 - 37ms/epoch - 3ms/step\n",
            "Epoch 173/200\n",
            "12/12 - 0s - loss: 0.5366 - mean_squared_error: 0.5366 - val_loss: 0.5341 - val_mean_squared_error: 0.5341 - 36ms/epoch - 3ms/step\n",
            "Epoch 174/200\n",
            "12/12 - 0s - loss: 0.5364 - mean_squared_error: 0.5364 - val_loss: 0.5338 - val_mean_squared_error: 0.5338 - 35ms/epoch - 3ms/step\n",
            "Epoch 175/200\n",
            "12/12 - 0s - loss: 0.5364 - mean_squared_error: 0.5364 - val_loss: 0.5335 - val_mean_squared_error: 0.5335 - 37ms/epoch - 3ms/step\n",
            "Epoch 176/200\n",
            "12/12 - 0s - loss: 0.5363 - mean_squared_error: 0.5363 - val_loss: 0.5334 - val_mean_squared_error: 0.5334 - 35ms/epoch - 3ms/step\n",
            "Epoch 177/200\n",
            "12/12 - 0s - loss: 0.5363 - mean_squared_error: 0.5363 - val_loss: 0.5333 - val_mean_squared_error: 0.5333 - 35ms/epoch - 3ms/step\n",
            "Epoch 178/200\n",
            "12/12 - 0s - loss: 0.5363 - mean_squared_error: 0.5363 - val_loss: 0.5332 - val_mean_squared_error: 0.5332 - 38ms/epoch - 3ms/step\n",
            "Epoch 179/200\n",
            "12/12 - 0s - loss: 0.5362 - mean_squared_error: 0.5362 - val_loss: 0.5329 - val_mean_squared_error: 0.5329 - 55ms/epoch - 5ms/step\n",
            "Epoch 180/200\n",
            "12/12 - 0s - loss: 0.5362 - mean_squared_error: 0.5362 - val_loss: 0.5326 - val_mean_squared_error: 0.5326 - 37ms/epoch - 3ms/step\n",
            "Epoch 181/200\n",
            "12/12 - 0s - loss: 0.5361 - mean_squared_error: 0.5361 - val_loss: 0.5325 - val_mean_squared_error: 0.5325 - 54ms/epoch - 5ms/step\n",
            "Epoch 182/200\n",
            "12/12 - 0s - loss: 0.5361 - mean_squared_error: 0.5361 - val_loss: 0.5324 - val_mean_squared_error: 0.5324 - 35ms/epoch - 3ms/step\n",
            "Epoch 183/200\n",
            "12/12 - 0s - loss: 0.5360 - mean_squared_error: 0.5360 - val_loss: 0.5324 - val_mean_squared_error: 0.5324 - 53ms/epoch - 4ms/step\n",
            "Epoch 184/200\n",
            "12/12 - 0s - loss: 0.5360 - mean_squared_error: 0.5360 - val_loss: 0.5323 - val_mean_squared_error: 0.5323 - 53ms/epoch - 4ms/step\n",
            "Epoch 185/200\n",
            "12/12 - 0s - loss: 0.5359 - mean_squared_error: 0.5359 - val_loss: 0.5321 - val_mean_squared_error: 0.5321 - 39ms/epoch - 3ms/step\n",
            "Epoch 186/200\n",
            "12/12 - 0s - loss: 0.5359 - mean_squared_error: 0.5359 - val_loss: 0.5319 - val_mean_squared_error: 0.5319 - 36ms/epoch - 3ms/step\n",
            "Epoch 187/200\n",
            "12/12 - 0s - loss: 0.5359 - mean_squared_error: 0.5359 - val_loss: 0.5318 - val_mean_squared_error: 0.5318 - 38ms/epoch - 3ms/step\n",
            "Epoch 188/200\n",
            "12/12 - 0s - loss: 0.5358 - mean_squared_error: 0.5358 - val_loss: 0.5316 - val_mean_squared_error: 0.5316 - 35ms/epoch - 3ms/step\n",
            "Epoch 189/200\n",
            "12/12 - 0s - loss: 0.5358 - mean_squared_error: 0.5358 - val_loss: 0.5314 - val_mean_squared_error: 0.5314 - 48ms/epoch - 4ms/step\n",
            "Epoch 190/200\n",
            "12/12 - 0s - loss: 0.5358 - mean_squared_error: 0.5358 - val_loss: 0.5312 - val_mean_squared_error: 0.5312 - 43ms/epoch - 4ms/step\n",
            "Epoch 191/200\n",
            "12/12 - 0s - loss: 0.5357 - mean_squared_error: 0.5357 - val_loss: 0.5310 - val_mean_squared_error: 0.5310 - 35ms/epoch - 3ms/step\n",
            "Epoch 192/200\n",
            "12/12 - 0s - loss: 0.5357 - mean_squared_error: 0.5357 - val_loss: 0.5310 - val_mean_squared_error: 0.5310 - 40ms/epoch - 3ms/step\n",
            "Epoch 193/200\n",
            "12/12 - 0s - loss: 0.5356 - mean_squared_error: 0.5356 - val_loss: 0.5308 - val_mean_squared_error: 0.5308 - 39ms/epoch - 3ms/step\n",
            "Epoch 194/200\n",
            "12/12 - 0s - loss: 0.5356 - mean_squared_error: 0.5356 - val_loss: 0.5303 - val_mean_squared_error: 0.5303 - 37ms/epoch - 3ms/step\n",
            "Epoch 195/200\n",
            "12/12 - 0s - loss: 0.5356 - mean_squared_error: 0.5356 - val_loss: 0.5303 - val_mean_squared_error: 0.5303 - 37ms/epoch - 3ms/step\n",
            "Epoch 196/200\n",
            "12/12 - 0s - loss: 0.5355 - mean_squared_error: 0.5355 - val_loss: 0.5302 - val_mean_squared_error: 0.5302 - 53ms/epoch - 4ms/step\n",
            "Epoch 197/200\n",
            "12/12 - 0s - loss: 0.5355 - mean_squared_error: 0.5355 - val_loss: 0.5303 - val_mean_squared_error: 0.5303 - 39ms/epoch - 3ms/step\n",
            "Epoch 198/200\n",
            "12/12 - 0s - loss: 0.5355 - mean_squared_error: 0.5355 - val_loss: 0.5304 - val_mean_squared_error: 0.5304 - 33ms/epoch - 3ms/step\n",
            "Epoch 199/200\n",
            "12/12 - 0s - loss: 0.5354 - mean_squared_error: 0.5354 - val_loss: 0.5303 - val_mean_squared_error: 0.5303 - 36ms/epoch - 3ms/step\n",
            "Epoch 200/200\n",
            "12/12 - 0s - loss: 0.5354 - mean_squared_error: 0.5354 - val_loss: 0.5302 - val_mean_squared_error: 0.5302 - 38ms/epoch - 3ms/step\n",
            "Time for training:     9.3981s\n"
          ]
        }
      ],
      "source": [
        "epochs = 200\n",
        "start_time = time.time()\n",
        "val_split=0.1\n",
        "\n",
        "history_model = model_keras.fit(x_train, y_train,\n",
        "                          epochs=epochs,\n",
        "                          batch_size=32,\n",
        "                          validation_split=val_split, \n",
        "                          shuffle=True,\n",
        "                          verbose=2)\n",
        "\n",
        "end_time = time.time()\n",
        "print(\"Time for training: {:10.4f}s\".format(end_time - start_time))"
      ]
    },
    {
      "cell_type": "markdown",
      "metadata": {
        "id": "pLHnMxPFo1WP"
      },
      "source": [
        "<font size=4>15. Realiza la gráfica de Costo vs Épocas de los conjuntos de entramiento y validación.   "
      ]
    },
    {
      "cell_type": "code",
      "execution_count": null,
      "metadata": {
        "id": "nI8c7RKwo1WQ",
        "colab": {
          "base_uri": "https://localhost:8080/",
          "height": 300
        },
        "outputId": "e4630f93-e781-41a0-a959-26d77c3ee75b"
      },
      "outputs": [
        {
          "output_type": "display_data",
          "data": {
            "text/plain": [
              "<Figure size 432x288 with 1 Axes>"
            ],
            "image/png": "[encoded data removed]"
          },
          "metadata": {
            "needs_background": "light"
          }
        }
      ],
      "source": [
        "plt.plot(history_model.history['loss'], 'magenta')\n",
        "plt.plot(history_model.history['val_loss'], 'blue')\n",
        "plt.title('Loss function')\n",
        "plt.ylabel('Cost', size=16)\n",
        "plt.xlabel('Epoch', size=16)\n",
        "plt.legend(['Train', 'Validation'], loc='upper right');"
      ]
    },
    {
      "cell_type": "markdown",
      "metadata": {
        "id": "7HFmKLx8o1WQ"
      },
      "source": [
        "<font size=4>16. Utilizando el método *evaluate* de tu modelo, obten el costo sobre el conjunto test."
      ]
    },
    {
      "cell_type": "code",
      "execution_count": null,
      "metadata": {
        "id": "5bxe7SLco1WQ",
        "colab": {
          "base_uri": "https://localhost:8080/"
        },
        "outputId": "75cfdd28-cd13-435d-e73b-4ff130fcb772"
      },
      "outputs": [
        {
          "output_type": "stream",
          "name": "stdout",
          "text": [
            "2/2 [==============================] - 0s 6ms/step - loss: 0.5561 - mean_squared_error: 0.5561\n",
            "Test loss: 0.5561131834983826\n"
          ]
        }
      ],
      "source": [
        "scores = model_keras.evaluate(x_test, y_test)\n",
        "print('Test loss:', scores[0])"
      ]
    },
    {
      "cell_type": "markdown",
      "metadata": {
        "id": "V3teBwq-o1WQ"
      },
      "source": [
        "<font size=4>17. Finalmente, utilizando el método *predict* de la red neuronal, obten las predicciones sobre el conjunto de entramiento, y muestra la inferencia sobre el primer registro de estas predicciones (recuerda revertir la normalización para obtener la predicción en términos que podamos entender) "
      ]
    },
    {
      "cell_type": "code",
      "execution_count": null,
      "metadata": {
        "id": "H1RprX-Ho1WQ",
        "colab": {
          "base_uri": "https://localhost:8080/"
        },
        "outputId": "567251c4-489d-4395-ec85-2055ce0c1745"
      },
      "outputs": [
        {
          "output_type": "stream",
          "name": "stdout",
          "text": [
            "2/2 [==============================] - 0s 6ms/step\n",
            "45\n"
          ]
        }
      ],
      "source": [
        "predictions = model_keras.predict(x_test)\n",
        "print(len(predictions))"
      ]
    },
    {
      "cell_type": "code",
      "source": [
        "predictions[0]*df_train.std() + df_train.mean()"
      ],
      "metadata": {
        "colab": {
          "base_uri": "https://localhost:8080/"
        },
        "id": "gYplEs23feuo",
        "outputId": "0576e61a-81db-4838-e463-6d37f9321bb3"
      },
      "execution_count": null,
      "outputs": [
        {
          "output_type": "execute_result",
          "data": {
            "text/plain": [
              "AGE     48.526120\n",
              "SEX      1.465244\n",
              "BMI     26.464481\n",
              "BP      94.689818\n",
              "S1     189.066249\n",
              "S2     115.499967\n",
              "S3      49.867954\n",
              "S4       4.071959\n",
              "S5       4.641926\n",
              "S6      91.223698\n",
              "Y      151.934846\n",
              "dtype: float64"
            ]
          },
          "metadata": {},
          "execution_count": 65
        }
      ]
    }
  ],
  "metadata": {
    "kernelspec": {
      "display_name": "Python 3 (ipykernel)",
      "language": "python",
      "name": "python3"
    },
    "language_info": {
      "codemirror_mode": {
        "name": "ipython",
        "version": 3
      },
      "file_extension": ".py",
      "mimetype": "text/x-python",
      "name": "python",
      "nbconvert_exporter": "python",
      "pygments_lexer": "ipython3",
      "version": "3.9.7"
    },
    "colab": {
      "provenance": [],
      "collapsed_sections": [],
      "include_colab_link": true
    }
  },
  "nbformat": 4,
  "nbformat_minor": 0
}