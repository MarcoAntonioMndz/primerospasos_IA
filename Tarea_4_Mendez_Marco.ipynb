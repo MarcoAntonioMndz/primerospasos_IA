{
  "cells": [
    {
      "cell_type": "markdown",
      "metadata": {
        "id": "wS7QqaEIAsJq"
      },
      "source": [
        "<font size=4 color='cornflowerblue'>\n",
        "\n",
        "# Tarea 4\n",
        "\n",
        "### Implementar una red neuronal de convolución usando el conjunto de datos mnist.\n",
        "\n"
      ]
    },
    {
      "cell_type": "code",
      "execution_count": 1,
      "metadata": {
        "ExecuteTime": {
          "end_time": "2020-11-25T01:04:19.488897Z",
          "start_time": "2020-11-25T01:04:18.001701Z"
        },
        "id": "QHrzvQP3AsJw"
      },
      "outputs": [],
      "source": [
        "#### import keras\n",
        "from keras import layers\n",
        "from keras.layers import Input, Dense, Activation, Flatten\n",
        "from keras.layers import Dropout\n",
        "from keras.models import Model\n",
        "from keras.preprocessing import image\n",
        "from keras.utils import layer_utils\n",
        "from keras.utils.data_utils import get_file\n",
        "from keras.applications.imagenet_utils import preprocess_input\n",
        "import pydot\n",
        "from IPython.display import SVG\n",
        "from keras.utils.vis_utils import model_to_dot\n",
        "from keras.utils import plot_model\n",
        "from keras.optimizers import SGD\n",
        "import keras.backend as K\n",
        "from keras.layers import BatchNormalization                       \n",
        "from keras.layers import Conv2D, MaxPooling2D\n",
        "from keras.models import Sequential\n",
        "import numpy as np\n",
        "import time\n",
        "import matplotlib.pyplot as plt\n",
        "from matplotlib.pyplot import imshow\n",
        "\n",
        "np.random.seed(1)\n",
        "%matplotlib inline"
      ]
    },
    {
      "cell_type": "markdown",
      "metadata": {
        "id": "-KgSbvfpAsJ0"
      },
      "source": [
        "<font size = 5 color=\"cornflowerblue\">\n",
        "\n",
        "Parte I: **Análisis de datos**"
      ]
    },
    {
      "cell_type": "markdown",
      "metadata": {
        "id": "TrC5YygSAsJ1"
      },
      "source": [
        "<font size=4 color='rosybrown'>\n",
        "    \n",
        "    \n",
        " #### Ejercicio 1"
      ]
    },
    {
      "cell_type": "markdown",
      "metadata": {
        "id": "z5XnwXlpAsJ2"
      },
      "source": [
        "<font size=4>\n",
        "\n",
        "Importa y carga la base de datos mnist de Keras:"
      ]
    },
    {
      "cell_type": "markdown",
      "metadata": {
        "id": "jAFED-gNAsJ3"
      },
      "source": [
        "<font size = 4>\n",
        "\n",
        "*El conjunto de datos mnist lo pueden obtener directamente de Keras: [mnist Keras](https://keras.io/examples/vision/mnist_convnet/)*"
      ]
    },
    {
      "cell_type": "code",
      "execution_count": 2,
      "metadata": {
        "ExecuteTime": {
          "end_time": "2020-11-25T01:04:19.493686Z",
          "start_time": "2020-11-25T01:04:19.490560Z"
        },
        "id": "WYArFI4IAsJ4"
      },
      "outputs": [],
      "source": [
        "# Escribe el codigo aquí\n",
        "\n",
        "from tensorflow import keras\n",
        "(x_train, y_train), (x_test, y_test) = keras.datasets.mnist.load_data()"
      ]
    },
    {
      "cell_type": "markdown",
      "metadata": {
        "id": "ZWU1p9wbAsJ5"
      },
      "source": [
        "<font size=4 color='rosybrown'>\n",
        "    \n",
        "    \n",
        " #### Ejercicio 2"
      ]
    },
    {
      "cell_type": "markdown",
      "metadata": {
        "id": "XOLK7mTKAsJ6"
      },
      "source": [
        "<font size=4>\n",
        "\n",
        "¿De qué tipo son los conjuntos que obtuviste?"
      ]
    },
    {
      "cell_type": "code",
      "execution_count": 3,
      "metadata": {
        "ExecuteTime": {
          "end_time": "2020-11-25T01:04:19.728584Z",
          "start_time": "2020-11-25T01:04:19.724692Z"
        },
        "colab": {
          "base_uri": "https://localhost:8080/"
        },
        "id": "lPBdpLQ7AsJ7",
        "outputId": "d43fbb7d-e1cd-4078-e70e-5bd5088c4b27"
      },
      "outputs": [
        {
          "output_type": "stream",
          "name": "stdout",
          "text": [
            "El tipo de x_train es:  <class 'numpy.ndarray'>\n",
            "El tipo de y_train es:  <class 'numpy.ndarray'>\n",
            "El tipo de x_test es:  <class 'numpy.ndarray'>\n",
            "El tipo de y_test es:  <class 'numpy.ndarray'>\n"
          ]
        }
      ],
      "source": [
        "# Escribe el codigo aquí\n",
        "\n",
        "print(\"El tipo de x_train es: \", type(x_train))\n",
        "print(\"El tipo de y_train es: \", type(y_train))\n",
        "print(\"El tipo de x_test es: \", type(x_test))\n",
        "print(\"El tipo de y_test es: \", type(y_test))"
      ]
    },
    {
      "cell_type": "markdown",
      "metadata": {
        "id": "g3qsF1sZAsJ8"
      },
      "source": [
        "<font size=4 color='rosybrown'>\n",
        "    \n",
        "    \n",
        " #### Ejercicio 3"
      ]
    },
    {
      "cell_type": "markdown",
      "metadata": {
        "id": "smNPCVeIAsJ8"
      },
      "source": [
        "<font size=4>\n",
        "\n",
        "¿Qué dimensión tienen los conjuntos que obtuviste?"
      ]
    },
    {
      "cell_type": "code",
      "execution_count": 4,
      "metadata": {
        "ExecuteTime": {
          "end_time": "2020-11-25T01:04:19.728584Z",
          "start_time": "2020-11-25T01:04:19.724692Z"
        },
        "colab": {
          "base_uri": "https://localhost:8080/"
        },
        "id": "AXdMTxjuAsJ9",
        "outputId": "def2be03-53aa-45a8-87f6-613f1647569b"
      },
      "outputs": [
        {
          "output_type": "stream",
          "name": "stdout",
          "text": [
            "Las dimensiones de x_train son:  (60000, 28, 28)\n",
            "Las dimensiones de y_train son:  (60000,)\n",
            "Las dimensiones de x_test son:  (10000, 28, 28)\n",
            "Las dimensiones de y_test son:  (10000,)\n"
          ]
        }
      ],
      "source": [
        "# Escribe el codigo aquí\n",
        "\n",
        "print(\"Las dimensiones de x_train son: \", x_train.shape)\n",
        "print(\"Las dimensiones de y_train son: \", y_train.shape)\n",
        "print(\"Las dimensiones de x_test son: \", x_test.shape)\n",
        "print(\"Las dimensiones de y_test son: \", y_test.shape)"
      ]
    },
    {
      "cell_type": "markdown",
      "metadata": {
        "id": "qth1if13AsJ-"
      },
      "source": [
        "<font size=4 color='rosybrown'>\n",
        "    \n",
        "    \n",
        " #### Ejercicio 4"
      ]
    },
    {
      "cell_type": "markdown",
      "metadata": {
        "id": "wu3H7PNZAsJ_"
      },
      "source": [
        "<font size=4>\n",
        "\n",
        "¿Cómo se ve una muestra de entrenamiento?, Responde a esta pregunta mostrando un ejemplo, ¿qué representa cada valor en la muestra?"
      ]
    },
    {
      "cell_type": "markdown",
      "source": [
        "Básicamente lo que tenemos es una representación de las imágenes de entrenamiento, cada una de estas conformadas por 28 X 28 pixeles. Entonces tenemos un arreglo que contiene 28 \"filas\" por 28 \"renglones\" y los números presentes en  el arreglo son la escala de grises de la imagen.   "
      ],
      "metadata": {
        "id": "QpcY31alca4H"
      }
    },
    {
      "cell_type": "code",
      "execution_count": 5,
      "metadata": {
        "ExecuteTime": {
          "end_time": "2020-11-25T01:04:19.728584Z",
          "start_time": "2020-11-25T01:04:19.724692Z"
        },
        "colab": {
          "base_uri": "https://localhost:8080/"
        },
        "id": "sOfrOuENAsKA",
        "outputId": "4b920183-b3f5-467f-a4b3-6040ead4b9fa"
      },
      "outputs": [
        {
          "output_type": "stream",
          "name": "stdout",
          "text": [
            "[[  0   0   0   0   0   0   0   0   0   0   0   0   0   0   0   0   0   0\n",
            "    0   0   0   0   0   0   0   0   0   0]\n",
            " [  0   0   0   0   0   0   0   0   0   0   0   0   0   0   0   0   0   0\n",
            "    0   0   0   0   0   0   0   0   0   0]\n",
            " [  0   0   0   0   0   0   0   0   0   0   0   0   0   0   0   0   0   0\n",
            "    0   0   0   0   0   0   0   0   0   0]\n",
            " [  0   0   0   0   0   0   0   0   0   0   0   0   0   0   0   0   0   0\n",
            "    0   0   0   0   0   0   0   0   0   0]\n",
            " [  0   0   0   0   0   0   0   0   0   0   0   0   0   0   0   0   0   0\n",
            "    0   0   0   0   0   0   0   0   0   0]\n",
            " [  0   0   0   0   0   0   0   0   0   0   0   0   0   0   0   0   0   0\n",
            "    0   0   0   0   0   0   0   0   0   0]\n",
            " [  0   0   0   0   0   0   0   0   0   0   0   0   0   0   0   0   0   0\n",
            "    0   0   0   0   0   0   0   0   0   0]\n",
            " [  0   0   0   0   0   0   0   0   0   0   0   0  11 120 223 249 217 244\n",
            "  109   0   0   0   0   0   0   0   0   0]\n",
            " [  0   0   0   0   0   0   0   0   0   0   0  11 186 254 149  52   0 109\n",
            "  243  42   0   0   0   0   0   0   0   0]\n",
            " [  0   0   0   0   0   0   0   0   0   0   0 213 223  63   0   0   0  11\n",
            "  228 145   0   0   0   0   0   0   0   0]\n",
            " [  0   0   0   0   0   0   0   0   0   0  84 243  67   0   0   0   0   0\n",
            "  176 145   0   0   0   0   0   0   0   0]\n",
            " [  0   0   0   0   0   0   0   0   0   0 197 207   0   0   0   0   0   0\n",
            "  145 145   0   0   0   0   0   0   0   0]\n",
            " [  0   0   0   0   0   0   0   0   0   0 217 228 104 145 145 218 155   0\n",
            "  186 145   0   0   0   0   0   0   0   0]\n",
            " [  0   0   0   0   0   0   0   0   0   0  63 218 217 218 176 161 254 130\n",
            "  223  21   0   0   0   0   0   0   0   0]\n",
            " [  0   0   0   0   0   0   0   0   0   0   0   0   0   0   0  37 253 202\n",
            "   88   0   0   0   0   0   0   0   0   0]\n",
            " [  0   0   0   0   0   0   0   0   0   0   0   0   0   0   0  68 254  63\n",
            "    0   0   0   0   0   0   0   0   0   0]\n",
            " [  0   0   0   0   0   0   0   0   0   0   0   0   0   0   0 150 253   0\n",
            "    0   0   0   0   0   0   0   0   0   0]\n",
            " [  0   0   0   0   0   0   0   0   0   0   0   0   0   0   0 182 223   0\n",
            "    0   0   0   0   0   0   0   0   0   0]\n",
            " [  0   0   0   0   0   0   0   0   0   0   0   0   0   0   0 244 139   0\n",
            "    0   0   0   0   0   0   0   0   0   0]\n",
            " [  0   0   0   0   0   0   0   0   0   0   0   0   0   0 125 255  36   0\n",
            "    0   0   0   0   0   0   0   0   0   0]\n",
            " [  0   0   0   0   0   0   0   0   0   0   0   0   0   0 207 223   5   0\n",
            "    0   0   0   0   0   0   0   0   0   0]\n",
            " [  0   0   0   0   0   0   0   0   0   0   0   0   0  16 233 156   0   0\n",
            "    0   0   0   0   0   0   0   0   0   0]\n",
            " [  0   0   0   0   0   0   0   0   0   0   0   0   0  99 253  73   0   0\n",
            "    0   0   0   0   0   0   0   0   0   0]\n",
            " [  0   0   0   0   0   0   0   0   0   0   0   0  11 192 243  21   0   0\n",
            "    0   0   0   0   0   0   0   0   0   0]\n",
            " [  0   0   0   0   0   0   0   0   0   0   0   0  94 254 119   0   0   0\n",
            "    0   0   0   0   0   0   0   0   0   0]\n",
            " [  0   0   0   0   0   0   0   0   0   0   0  16 213 197  11   0   0   0\n",
            "    0   0   0   0   0   0   0   0   0   0]\n",
            " [  0   0   0   0   0   0   0   0   0   0   0  37 253  83   0   0   0   0\n",
            "    0   0   0   0   0   0   0   0   0   0]\n",
            " [  0   0   0   0   0   0   0   0   0   0   0   0   0   0   0   0   0   0\n",
            "    0   0   0   0   0   0   0   0   0   0]]\n",
            "\n",
            " El valor de la muestra 1500 del conjunto de entrenamiento correesponde a un: 9.\n"
          ]
        }
      ],
      "source": [
        "# Escribe el codigo aquí\n",
        "\n",
        "sample = 1500\n",
        "\n",
        "print(x_train[sample])\n",
        "print(\"\\n El valor de la muestra {} del conjunto de entrenamiento correesponde a un: {}.\".format(sample, y_train[sample]))"
      ]
    },
    {
      "cell_type": "markdown",
      "metadata": {
        "id": "xq37bnQeAsKA"
      },
      "source": [
        "<font size=4 color='rosybrown'>\n",
        "    \n",
        "    \n",
        " #### Ejercicio 5"
      ]
    },
    {
      "cell_type": "markdown",
      "metadata": {
        "id": "YwCLd-xmAsKB"
      },
      "source": [
        "<font size=4>\n",
        "\n",
        "¿Las muestras estan normalizadas?, (cómo puedes saber esto) si no estan normalizadas, normalizalas. \n",
        "\n",
        "*recuerda que en el caso de imágenes la normalizacion es dividir cada pixel por la intensidad máxima (255)*"
      ]
    },
    {
      "cell_type": "markdown",
      "source": [
        "Las muestras no están normalizadas ya que los valores no se encuentran entre 0 y 1.  "
      ],
      "metadata": {
        "id": "Ome0dCa7f6B8"
      }
    },
    {
      "cell_type": "code",
      "execution_count": 6,
      "metadata": {
        "ExecuteTime": {
          "end_time": "2020-11-25T01:04:19.728584Z",
          "start_time": "2020-11-25T01:04:19.724692Z"
        },
        "id": "CGWlb7-8AsKD"
      },
      "outputs": [],
      "source": [
        "# Escribe el codigo aquí\n",
        "\n",
        "x_train = x_train.astype(\"float32\") / 255\n",
        "x_test = x_test.astype(\"float32\") / 255"
      ]
    },
    {
      "cell_type": "markdown",
      "metadata": {
        "id": "bEwnC2ogAsKE"
      },
      "source": [
        "<font size=4 color='rosybrown'>\n",
        "    \n",
        "    \n",
        " #### Ejercicio 6"
      ]
    },
    {
      "cell_type": "markdown",
      "metadata": {
        "id": "-G3p1rwHAsKF"
      },
      "source": [
        "<font size=4>\n",
        "\n",
        "\n",
        "En un ejercicio anterior se obtuvo la muestra en forma de arreglo, ahora muestra la imagen y su correspondiente etiqueta (usa un ejemplo del conjunto de entrenamiento)."
      ]
    },
    {
      "cell_type": "code",
      "execution_count": 7,
      "metadata": {
        "ExecuteTime": {
          "end_time": "2020-11-25T01:04:19.728584Z",
          "start_time": "2020-11-25T01:04:19.724692Z"
        },
        "id": "_E5b94BmAsKG",
        "colab": {
          "base_uri": "https://localhost:8080/",
          "height": 300
        },
        "outputId": "5d18eda8-046d-4db7-9fa6-05726269c654"
      },
      "outputs": [
        {
          "output_type": "stream",
          "name": "stdout",
          "text": [
            "La etiqueta de la muestra 1500 del conjunto de entrenamiento correesponde a un 9. \n",
            "\n"
          ]
        },
        {
          "output_type": "display_data",
          "data": {
            "text/plain": [
              "<Figure size 432x288 with 1 Axes>"
            ],
            "image/png": "[encoded data removed]"
          },
          "metadata": {
            "needs_background": "light"
          }
        }
      ],
      "source": [
        "# Escribe el codigo aquí\n",
        "\n",
        "sample = 1500\n",
        "plt.imshow(x_train[sample].reshape((28, 28)),cmap='gray')\n",
        "print(\"La etiqueta de la muestra {} del conjunto de entrenamiento correesponde a un {}. \\n\".format(sample, y_train[sample]))"
      ]
    },
    {
      "cell_type": "markdown",
      "metadata": {
        "id": "6WO90tUsAsKH"
      },
      "source": [
        "<font size=4 color='rosybrown'>\n",
        "    \n",
        "    \n",
        " #### Ejercicio 7"
      ]
    },
    {
      "cell_type": "markdown",
      "metadata": {
        "id": "T-aOuwNtAsKI"
      },
      "source": [
        "<font size=4>\n",
        "\n",
        "Dada una muestra de entrada (input) ¿de qué forma se indica la etiqueta (output)?"
      ]
    },
    {
      "cell_type": "code",
      "execution_count": 8,
      "metadata": {
        "ExecuteTime": {
          "end_time": "2020-11-25T01:04:19.728584Z",
          "start_time": "2020-11-25T01:04:19.724692Z"
        },
        "id": "d1_PwEJZAsKJ",
        "colab": {
          "base_uri": "https://localhost:8080/"
        },
        "outputId": "f75d53f1-9a21-439e-ed9a-4abdb835db99"
      },
      "outputs": [
        {
          "output_type": "stream",
          "name": "stdout",
          "text": [
            "Dada la muestra de entrada (input) 7253 del conjunto de entrenamiento la forma de la etiqueta (output) es: 1.\n"
          ]
        }
      ],
      "source": [
        "# Escribe el codigo aquí\n",
        "\n",
        "sample = 7253\n",
        "print(\"Dada la muestra de entrada (input) {} del conjunto de entrenamiento la forma de la etiqueta (output) es: {}.\".format(sample, y_train[sample]))"
      ]
    },
    {
      "cell_type": "markdown",
      "source": [
        "La forma de las salidas no esta en representación $\\textit{one-hot}$."
      ],
      "metadata": {
        "id": "D9mNs7gQkL5r"
      }
    },
    {
      "cell_type": "markdown",
      "metadata": {
        "id": "lFJAskDRAsKJ"
      },
      "source": [
        "<font size=4 color='rosybrown'>\n",
        "    \n",
        "    \n",
        " #### Ejercicio 8"
      ]
    },
    {
      "cell_type": "markdown",
      "metadata": {
        "id": "t9bWofRoAsKK"
      },
      "source": [
        "<font size=4>\n",
        "\n",
        "Convierte el output en representación one-hot.\n",
        "\n",
        "\n",
        "Hint: Puedes usar la función de Keras [to_categorical](https://keras.io/api/utils/python_utils/#to_categorical-function)\n",
        "\n",
        "Observa cómo cambian sus dimensiones (muéstralo usando shape)."
      ]
    },
    {
      "cell_type": "code",
      "execution_count": 9,
      "metadata": {
        "ExecuteTime": {
          "end_time": "2020-11-25T01:04:19.728584Z",
          "start_time": "2020-11-25T01:04:19.724692Z"
        },
        "id": "dRJ6OEnWAsKL",
        "colab": {
          "base_uri": "https://localhost:8080/"
        },
        "outputId": "b58012ed-af95-46ec-8e90-bc70df2ec854"
      },
      "outputs": [
        {
          "output_type": "stream",
          "name": "stdout",
          "text": [
            "Las dimensiones de y_train son:  (10000, 10)\n",
            "Las dimensiones de y_test son:  (10000, 10)\n"
          ]
        }
      ],
      "source": [
        "# Escribe el codigo aquí\n",
        "\n",
        "num_classes = 10\n",
        "\n",
        "y_train = keras.utils.to_categorical(y_train, num_classes)\n",
        "y_test = keras.utils.to_categorical(y_test, num_classes)\n",
        "\n",
        "print(\"Las dimensiones de y_train son: \", y_test.shape)\n",
        "print(\"Las dimensiones de y_test son: \", y_test.shape)"
      ]
    },
    {
      "cell_type": "markdown",
      "metadata": {
        "id": "hrPcIhduAsKL"
      },
      "source": [
        "<font size=4 color='rosybrown'>\n",
        "    \n",
        "    \n",
        " #### Ejercicio 9"
      ]
    },
    {
      "cell_type": "markdown",
      "metadata": {
        "id": "tdYr26BtAsKM"
      },
      "source": [
        "<font size=4>\n",
        "\n",
        "Hasta aquí debes tener cuatro conjuntos de datos: los correspondientes a las entradas y las salidas de la red neuronal que se van a usar para el entrenamiento de la red (train_x y train_y) y los correspondientes a las entradas y salidas de la red neuronal que se van a usar para la prueba (test_x, test_y).\n",
        "\n",
        "Muestra las dimensiones de estos cuatro conjuntos."
      ]
    },
    {
      "cell_type": "code",
      "execution_count": 10,
      "metadata": {
        "ExecuteTime": {
          "end_time": "2020-11-25T01:04:19.728584Z",
          "start_time": "2020-11-25T01:04:19.724692Z"
        },
        "id": "dXIzeQp5AsKM",
        "colab": {
          "base_uri": "https://localhost:8080/"
        },
        "outputId": "cf302ec1-9dad-44f3-d1bd-075a431bf165"
      },
      "outputs": [
        {
          "output_type": "stream",
          "name": "stdout",
          "text": [
            "Las dimensiones de x_train son:  (60000, 28, 28)\n",
            "Las dimensiones de y_train son:  (60000, 10)\n",
            "Las dimensiones de x_test son:  (10000, 28, 28)\n",
            "Las dimensiones de y_test son:  (10000, 10)\n"
          ]
        }
      ],
      "source": [
        "# Escribe el codigo aquí\n",
        "\n",
        "print(\"Las dimensiones de x_train son: \", x_train.shape)\n",
        "print(\"Las dimensiones de y_train son: \", y_train.shape)\n",
        "print(\"Las dimensiones de x_test son: \", x_test.shape)\n",
        "print(\"Las dimensiones de y_test son: \", y_test.shape)"
      ]
    },
    {
      "cell_type": "markdown",
      "metadata": {
        "id": "HymU6MjGAsKN"
      },
      "source": [
        "<font size = 5 color=\"cornflowerblue\">\n",
        "\n",
        "Parte II: **Implemetación de la red neuronal**"
      ]
    },
    {
      "cell_type": "markdown",
      "metadata": {
        "id": "Gn1CZ46kAsKO"
      },
      "source": [
        "<font size=4 color='rosybrown'>\n",
        "    \n",
        "    \n",
        " #### Ejercicio 10"
      ]
    },
    {
      "cell_type": "markdown",
      "metadata": {
        "id": "4E96yZGAAsKO"
      },
      "source": [
        "<font size=4>\n",
        "\n",
        "Implementa una red neuronal de convolución dentro de una función (como lo hemos visto en clase). Puedes guiarte con el notebook de la clase 10 o de [mnist Keras](https://keras.io/examples/vision/mnist_convnet/) *(no uses la misma arquitectura que se da)*.\n",
        "\n",
        "Cuida que la función que implementes sea flexible, es decir, que si cambiamos las dimensiones de las entradas no se tenga que modificar la función directamente, más bien indicarlo como un argumento de la función. "
      ]
    },
    {
      "cell_type": "code",
      "execution_count": 11,
      "metadata": {
        "ExecuteTime": {
          "end_time": "2020-11-25T01:04:19.728584Z",
          "start_time": "2020-11-25T01:04:19.724692Z"
        },
        "id": "TiWP7_BwAsKP"
      },
      "outputs": [],
      "source": [
        "# Escribe el codigo aquí\n",
        "\n",
        "def architecture(input_shape, num_classes, activation):\n",
        "    model = keras.Sequential(\n",
        "      [\n",
        "          keras.Input(shape=input_shape),\n",
        "       \n",
        "          layers.Conv2D(28, kernel_size=(3, 3), padding='same', kernel_initializer='he_uniform', bias_initializer='zeros', activation=activation),\n",
        "       \n",
        "          layers.Conv2D(28, kernel_size=(3, 3), padding='same', kernel_initializer='he_uniform', bias_initializer='zeros', activation=activation),\n",
        "       \n",
        "          layers.MaxPooling2D(pool_size=(2, 2)),\n",
        "       \n",
        "          layers.Conv2D(14, kernel_size=(3, 3), padding='same', kernel_initializer='he_uniform', bias_initializer='zeros', activation=activation),\n",
        "\n",
        "          layers.Conv2D(14, kernel_size=(3, 3), padding='same', kernel_initializer='he_uniform', bias_initializer='zeros', activation=activation),\n",
        "       \n",
        "          layers.MaxPooling2D(pool_size=(2, 2)),\n",
        "       \n",
        "          layers.Flatten(),\n",
        "          \n",
        "          layers.Dense(686, kernel_initializer='he_uniform',bias_initializer='zeros'),\n",
        "       \n",
        "          layers.Dense(343, kernel_initializer='he_uniform',bias_initializer='zeros'),\n",
        "       \n",
        "          layers.Dense(num_classes, activation=\"softmax\"),\n",
        "      ]\n",
        "    ) \n",
        "    \n",
        "    return model\n"
      ]
    },
    {
      "cell_type": "markdown",
      "metadata": {
        "id": "JDa6BmWeAsKQ"
      },
      "source": [
        "<font size=4 color='rosybrown'>\n",
        "    \n",
        "    \n",
        " #### Ejercicio 11"
      ]
    },
    {
      "cell_type": "markdown",
      "metadata": {
        "id": "AvNNH8iNAsKR"
      },
      "source": [
        "<font size=4>\n",
        "\n",
        "Crea el modelo definido en el ejercicio anterior (es decir llama a la función que creaste con los argumentos adecuados)."
      ]
    },
    {
      "cell_type": "code",
      "execution_count": 12,
      "metadata": {
        "ExecuteTime": {
          "end_time": "2020-11-25T01:04:19.728584Z",
          "start_time": "2020-11-25T01:04:19.724692Z"
        },
        "id": "IWoLNXTLAsKR"
      },
      "outputs": [],
      "source": [
        "# Escribe el codigo aquí\n",
        "\n",
        "input_shape = (28, 28, 1)\n",
        "num_classes = 10\n",
        "activation='sigmoid'\n",
        "\n",
        "model = architecture(input_shape, num_classes, activation)"
      ]
    },
    {
      "cell_type": "markdown",
      "metadata": {
        "id": "M7XyhgtTAsKS"
      },
      "source": [
        "<font size=4 color='rosybrown'>\n",
        "    \n",
        "    \n",
        " #### Ejercicio 12"
      ]
    },
    {
      "cell_type": "markdown",
      "metadata": {
        "id": "eiT_cX31AsKT"
      },
      "source": [
        "<font size=4>\n",
        "\n",
        "Usa la función plot_model para obtener una representación esquemática del modelo implementado. "
      ]
    },
    {
      "cell_type": "code",
      "execution_count": 13,
      "metadata": {
        "ExecuteTime": {
          "end_time": "2020-11-25T01:04:19.728584Z",
          "start_time": "2020-11-25T01:04:19.724692Z"
        },
        "id": "fgFWBn6BAsKT",
        "colab": {
          "base_uri": "https://localhost:8080/",
          "height": 1000
        },
        "outputId": "79f0e8e3-3deb-489c-faff-0204bc2e5682"
      },
      "outputs": [
        {
          "output_type": "execute_result",
          "data": {
            "image/png": "[encoded data removed]",
            "text/plain": [
              "<IPython.core.display.Image object>"
            ]
          },
          "metadata": {},
          "execution_count": 13
        }
      ],
      "source": [
        "# Escribe el codigo aquí\n",
        "\n",
        "plot_model(model, show_shapes=True, show_layer_names=True)"
      ]
    },
    {
      "cell_type": "markdown",
      "metadata": {
        "id": "ZK82QEczAsKU"
      },
      "source": [
        "<font size=4 color='black'> \n",
        " [plot_model](https://keras.io/visualization/#training-history-visualization)"
      ]
    },
    {
      "cell_type": "markdown",
      "metadata": {
        "id": "EY2O-g_aAsKV"
      },
      "source": [
        "<font size=4 color='rosybrown'>\n",
        "    \n",
        "    \n",
        " #### Ejercicio 13"
      ]
    },
    {
      "cell_type": "markdown",
      "metadata": {
        "id": "mCXTx0IsAsKW"
      },
      "source": [
        "<font size=4>\n",
        "\n",
        "¿Cuántos parámetros tiene el modelo de red neuronal que implementaste? \n",
        "\n",
        "Puedes responder a esta pregunta usando el atributo summary(). "
      ]
    },
    {
      "cell_type": "code",
      "execution_count": 14,
      "metadata": {
        "ExecuteTime": {
          "end_time": "2020-11-25T01:04:19.728584Z",
          "start_time": "2020-11-25T01:04:19.724692Z"
        },
        "id": "dx12p5DWAsKX",
        "colab": {
          "base_uri": "https://localhost:8080/"
        },
        "outputId": "072902ac-0dfc-44ba-c862-970ac792a24b"
      },
      "outputs": [
        {
          "output_type": "stream",
          "name": "stdout",
          "text": [
            "Model: \"sequential\"\n",
            "_________________________________________________________________\n",
            " Layer (type)                Output Shape              Param #   \n",
            "=================================================================\n",
            " conv2d (Conv2D)             (None, 28, 28, 28)        280       \n",
            "                                                                 \n",
            " conv2d_1 (Conv2D)           (None, 28, 28, 28)        7084      \n",
            "                                                                 \n",
            " max_pooling2d (MaxPooling2D  (None, 14, 14, 28)       0         \n",
            " )                                                               \n",
            "                                                                 \n",
            " conv2d_2 (Conv2D)           (None, 14, 14, 14)        3542      \n",
            "                                                                 \n",
            " conv2d_3 (Conv2D)           (None, 14, 14, 14)        1778      \n",
            "                                                                 \n",
            " max_pooling2d_1 (MaxPooling  (None, 7, 7, 14)         0         \n",
            " 2D)                                                             \n",
            "                                                                 \n",
            " flatten (Flatten)           (None, 686)               0         \n",
            "                                                                 \n",
            " dense (Dense)               (None, 686)               471282    \n",
            "                                                                 \n",
            " dense_1 (Dense)             (None, 343)               235641    \n",
            "                                                                 \n",
            " dense_2 (Dense)             (None, 10)                3440      \n",
            "                                                                 \n",
            "=================================================================\n",
            "Total params: 723,047\n",
            "Trainable params: 723,047\n",
            "Non-trainable params: 0\n",
            "_________________________________________________________________\n"
          ]
        }
      ],
      "source": [
        "# Escribe el codigo aquí\n",
        "model.summary()"
      ]
    },
    {
      "cell_type": "markdown",
      "source": [
        "Hay 723,047 parámetros."
      ],
      "metadata": {
        "id": "PpXPH1tix_vS"
      }
    },
    {
      "cell_type": "markdown",
      "metadata": {
        "id": "py_5_xDTAsKY"
      },
      "source": [
        "<font size=4 color='rosybrown'>\n",
        "    \n",
        "    \n",
        " #### Ejercicio 14"
      ]
    },
    {
      "cell_type": "markdown",
      "metadata": {
        "id": "o81OQJSMAsKZ"
      },
      "source": [
        "<font size=4>\n",
        "\n",
        "Compila el modelo seleccionando un optimizador (con una tasa de aprendizaje seleccionable, es decir, no uses los valores por defecto), la función de costo (loss) y una metrica adecuadas para este problema.\n",
        "\n",
        "Hint: en la clase 10 revisamos un problema similar, puedes consultar la función de costo y la métrica utilizada. "
      ]
    },
    {
      "cell_type": "code",
      "execution_count": 15,
      "metadata": {
        "ExecuteTime": {
          "end_time": "2020-11-25T01:04:19.728584Z",
          "start_time": "2020-11-25T01:04:19.724692Z"
        },
        "id": "wPf2c0XrAsKZ"
      },
      "outputs": [],
      "source": [
        "# Escribe el codigo aquí\n",
        "learning_rate = 0.015\n",
        "\n",
        "optimizer = keras.optimizers.SGD(learning_rate=learning_rate, momentum=0.0, nesterov=False)"
      ]
    },
    {
      "cell_type": "code",
      "source": [
        "loss_function = 'categorical_crossentropy'\n",
        "metric_function = 'accuracy'"
      ],
      "metadata": {
        "id": "PiIfzmwIyNFw"
      },
      "execution_count": 16,
      "outputs": []
    },
    {
      "cell_type": "code",
      "source": [
        "model.compile(optimizer = optimizer, loss = loss_function, metrics = [metric_function])"
      ],
      "metadata": {
        "id": "v4DhjEPvyOIg"
      },
      "execution_count": 17,
      "outputs": []
    },
    {
      "cell_type": "markdown",
      "metadata": {
        "id": "VZ6g-08oAsKa"
      },
      "source": [
        "<font size=4 color='rosybrown'>\n",
        "    \n",
        "    \n",
        " #### Ejercicio 15\n"
      ]
    },
    {
      "cell_type": "markdown",
      "metadata": {
        "id": "ywiUUHyOAsKa"
      },
      "source": [
        "<font size=4>\n",
        "\n",
        "Entrena la red neuronal que implementaste, indica la cantidad de datos a usar para validar el modelo, el número de epocas a utilizar así como el tamaño del batch. No olvides usar shuffle=True."
      ]
    },
    {
      "cell_type": "code",
      "source": [
        "x_train = np.expand_dims(x_train, -1)\n",
        "x_test = np.expand_dims(x_test, -1)"
      ],
      "metadata": {
        "id": "36-ba43VMdG7"
      },
      "execution_count": 18,
      "outputs": []
    },
    {
      "cell_type": "code",
      "execution_count": 19,
      "metadata": {
        "ExecuteTime": {
          "end_time": "2020-11-25T01:04:19.728584Z",
          "start_time": "2020-11-25T01:04:19.724692Z"
        },
        "id": "fW_TN1EuAsKb",
        "colab": {
          "base_uri": "https://localhost:8080/"
        },
        "outputId": "0c96b459-5d0a-4df2-b0c3-0d96a7625136"
      },
      "outputs": [
        {
          "output_type": "stream",
          "name": "stdout",
          "text": [
            "Epoch 1/100\n",
            "422/422 [==============================] - 8s 8ms/step - loss: 2.3605 - accuracy: 0.1031 - val_loss: 2.3131 - val_accuracy: 0.1050\n",
            "Epoch 2/100\n",
            "422/422 [==============================] - 3s 7ms/step - loss: 2.3089 - accuracy: 0.1071 - val_loss: 2.3115 - val_accuracy: 0.0992\n",
            "Epoch 3/100\n",
            "422/422 [==============================] - 3s 7ms/step - loss: 2.3033 - accuracy: 0.1167 - val_loss: 2.2977 - val_accuracy: 0.0993\n",
            "Epoch 4/100\n",
            "422/422 [==============================] - 3s 7ms/step - loss: 2.2945 - accuracy: 0.1212 - val_loss: 2.2798 - val_accuracy: 0.1950\n",
            "Epoch 5/100\n",
            "422/422 [==============================] - 3s 8ms/step - loss: 2.2208 - accuracy: 0.2154 - val_loss: 1.9749 - val_accuracy: 0.3463\n",
            "Epoch 6/100\n",
            "422/422 [==============================] - 3s 7ms/step - loss: 1.0869 - accuracy: 0.6869 - val_loss: 0.5306 - val_accuracy: 0.8495\n",
            "Epoch 7/100\n",
            "422/422 [==============================] - 3s 7ms/step - loss: 0.5362 - accuracy: 0.8389 - val_loss: 0.3953 - val_accuracy: 0.8840\n",
            "Epoch 8/100\n",
            "422/422 [==============================] - 3s 7ms/step - loss: 0.4369 - accuracy: 0.8684 - val_loss: 0.3308 - val_accuracy: 0.9008\n",
            "Epoch 9/100\n",
            "422/422 [==============================] - 3s 7ms/step - loss: 0.3847 - accuracy: 0.8838 - val_loss: 0.2898 - val_accuracy: 0.9132\n",
            "Epoch 10/100\n",
            "422/422 [==============================] - 3s 7ms/step - loss: 0.3512 - accuracy: 0.8946 - val_loss: 0.2644 - val_accuracy: 0.9208\n",
            "Epoch 11/100\n",
            "422/422 [==============================] - 3s 7ms/step - loss: 0.3221 - accuracy: 0.9031 - val_loss: 0.2489 - val_accuracy: 0.9270\n",
            "Epoch 12/100\n",
            "422/422 [==============================] - 3s 8ms/step - loss: 0.2977 - accuracy: 0.9113 - val_loss: 0.2216 - val_accuracy: 0.9322\n",
            "Epoch 13/100\n",
            "422/422 [==============================] - 3s 7ms/step - loss: 0.2750 - accuracy: 0.9187 - val_loss: 0.2015 - val_accuracy: 0.9412\n",
            "Epoch 14/100\n",
            "422/422 [==============================] - 3s 8ms/step - loss: 0.2538 - accuracy: 0.9242 - val_loss: 0.1892 - val_accuracy: 0.9477\n",
            "Epoch 15/100\n",
            "422/422 [==============================] - 3s 8ms/step - loss: 0.2351 - accuracy: 0.9300 - val_loss: 0.1708 - val_accuracy: 0.9502\n",
            "Epoch 16/100\n",
            "422/422 [==============================] - 3s 7ms/step - loss: 0.2172 - accuracy: 0.9353 - val_loss: 0.1626 - val_accuracy: 0.9558\n",
            "Epoch 17/100\n",
            "422/422 [==============================] - 3s 7ms/step - loss: 0.2010 - accuracy: 0.9406 - val_loss: 0.1516 - val_accuracy: 0.9573\n",
            "Epoch 18/100\n",
            "422/422 [==============================] - 3s 7ms/step - loss: 0.1858 - accuracy: 0.9445 - val_loss: 0.1374 - val_accuracy: 0.9632\n",
            "Epoch 19/100\n",
            "422/422 [==============================] - 3s 7ms/step - loss: 0.1731 - accuracy: 0.9484 - val_loss: 0.1302 - val_accuracy: 0.9643\n",
            "Epoch 20/100\n",
            "422/422 [==============================] - 3s 7ms/step - loss: 0.1610 - accuracy: 0.9513 - val_loss: 0.1214 - val_accuracy: 0.9675\n",
            "Epoch 21/100\n",
            "422/422 [==============================] - 3s 7ms/step - loss: 0.1515 - accuracy: 0.9542 - val_loss: 0.1132 - val_accuracy: 0.9707\n",
            "Epoch 22/100\n",
            "422/422 [==============================] - 3s 7ms/step - loss: 0.1418 - accuracy: 0.9573 - val_loss: 0.1079 - val_accuracy: 0.9707\n",
            "Epoch 23/100\n",
            "422/422 [==============================] - 3s 7ms/step - loss: 0.1344 - accuracy: 0.9596 - val_loss: 0.1031 - val_accuracy: 0.9718\n",
            "Epoch 24/100\n",
            "422/422 [==============================] - 4s 8ms/step - loss: 0.1279 - accuracy: 0.9613 - val_loss: 0.0972 - val_accuracy: 0.9732\n",
            "Epoch 25/100\n",
            "422/422 [==============================] - 3s 7ms/step - loss: 0.1217 - accuracy: 0.9633 - val_loss: 0.0951 - val_accuracy: 0.9737\n",
            "Epoch 26/100\n",
            "422/422 [==============================] - 3s 7ms/step - loss: 0.1161 - accuracy: 0.9651 - val_loss: 0.0899 - val_accuracy: 0.9752\n",
            "Epoch 27/100\n",
            "422/422 [==============================] - 3s 7ms/step - loss: 0.1112 - accuracy: 0.9665 - val_loss: 0.0955 - val_accuracy: 0.9733\n",
            "Epoch 28/100\n",
            "422/422 [==============================] - 3s 7ms/step - loss: 0.1068 - accuracy: 0.9676 - val_loss: 0.0857 - val_accuracy: 0.9763\n",
            "Epoch 29/100\n",
            "422/422 [==============================] - 3s 7ms/step - loss: 0.1028 - accuracy: 0.9693 - val_loss: 0.0839 - val_accuracy: 0.9770\n",
            "Epoch 30/100\n",
            "422/422 [==============================] - 3s 8ms/step - loss: 0.0996 - accuracy: 0.9696 - val_loss: 0.0853 - val_accuracy: 0.9772\n",
            "Epoch 31/100\n",
            "422/422 [==============================] - 3s 7ms/step - loss: 0.0967 - accuracy: 0.9709 - val_loss: 0.0790 - val_accuracy: 0.9773\n",
            "Epoch 32/100\n",
            "422/422 [==============================] - 3s 7ms/step - loss: 0.0937 - accuracy: 0.9717 - val_loss: 0.0777 - val_accuracy: 0.9780\n",
            "Epoch 33/100\n",
            "422/422 [==============================] - 3s 7ms/step - loss: 0.0908 - accuracy: 0.9723 - val_loss: 0.0779 - val_accuracy: 0.9778\n",
            "Epoch 34/100\n",
            "422/422 [==============================] - 3s 7ms/step - loss: 0.0885 - accuracy: 0.9729 - val_loss: 0.0748 - val_accuracy: 0.9777\n",
            "Epoch 35/100\n",
            "422/422 [==============================] - 3s 7ms/step - loss: 0.0863 - accuracy: 0.9738 - val_loss: 0.0753 - val_accuracy: 0.9787\n",
            "Epoch 36/100\n",
            "422/422 [==============================] - 3s 7ms/step - loss: 0.0839 - accuracy: 0.9749 - val_loss: 0.0764 - val_accuracy: 0.9783\n",
            "Epoch 37/100\n",
            "422/422 [==============================] - 3s 8ms/step - loss: 0.0823 - accuracy: 0.9746 - val_loss: 0.0804 - val_accuracy: 0.9785\n",
            "Epoch 38/100\n",
            "422/422 [==============================] - 3s 7ms/step - loss: 0.0805 - accuracy: 0.9760 - val_loss: 0.0720 - val_accuracy: 0.9793\n",
            "Epoch 39/100\n",
            "422/422 [==============================] - 3s 7ms/step - loss: 0.0784 - accuracy: 0.9763 - val_loss: 0.0691 - val_accuracy: 0.9808\n",
            "Epoch 40/100\n",
            "422/422 [==============================] - 3s 7ms/step - loss: 0.0773 - accuracy: 0.9766 - val_loss: 0.0713 - val_accuracy: 0.9805\n",
            "Epoch 41/100\n",
            "422/422 [==============================] - 3s 7ms/step - loss: 0.0758 - accuracy: 0.9766 - val_loss: 0.0664 - val_accuracy: 0.9810\n",
            "Epoch 42/100\n",
            "422/422 [==============================] - 3s 8ms/step - loss: 0.0742 - accuracy: 0.9775 - val_loss: 0.0731 - val_accuracy: 0.9795\n",
            "Epoch 43/100\n",
            "422/422 [==============================] - 3s 7ms/step - loss: 0.0728 - accuracy: 0.9784 - val_loss: 0.0685 - val_accuracy: 0.9818\n",
            "Epoch 44/100\n",
            "422/422 [==============================] - 3s 7ms/step - loss: 0.0713 - accuracy: 0.9784 - val_loss: 0.0632 - val_accuracy: 0.9815\n",
            "Epoch 45/100\n",
            "422/422 [==============================] - 3s 7ms/step - loss: 0.0702 - accuracy: 0.9790 - val_loss: 0.0646 - val_accuracy: 0.9810\n",
            "Epoch 46/100\n",
            "422/422 [==============================] - 3s 7ms/step - loss: 0.0690 - accuracy: 0.9790 - val_loss: 0.0648 - val_accuracy: 0.9808\n",
            "Epoch 47/100\n",
            "422/422 [==============================] - 3s 8ms/step - loss: 0.0677 - accuracy: 0.9793 - val_loss: 0.0630 - val_accuracy: 0.9810\n",
            "Epoch 48/100\n",
            "422/422 [==============================] - 3s 8ms/step - loss: 0.0668 - accuracy: 0.9799 - val_loss: 0.0625 - val_accuracy: 0.9823\n",
            "Epoch 49/100\n",
            "422/422 [==============================] - 3s 8ms/step - loss: 0.0655 - accuracy: 0.9802 - val_loss: 0.0650 - val_accuracy: 0.9818\n",
            "Epoch 50/100\n",
            "422/422 [==============================] - 3s 7ms/step - loss: 0.0646 - accuracy: 0.9809 - val_loss: 0.0607 - val_accuracy: 0.9828\n",
            "Epoch 51/100\n",
            "422/422 [==============================] - 3s 7ms/step - loss: 0.0640 - accuracy: 0.9803 - val_loss: 0.0657 - val_accuracy: 0.9820\n",
            "Epoch 52/100\n",
            "422/422 [==============================] - 3s 7ms/step - loss: 0.0631 - accuracy: 0.9810 - val_loss: 0.0634 - val_accuracy: 0.9812\n",
            "Epoch 53/100\n",
            "422/422 [==============================] - 3s 7ms/step - loss: 0.0621 - accuracy: 0.9809 - val_loss: 0.0596 - val_accuracy: 0.9825\n",
            "Epoch 54/100\n",
            "422/422 [==============================] - 3s 7ms/step - loss: 0.0611 - accuracy: 0.9814 - val_loss: 0.0617 - val_accuracy: 0.9823\n",
            "Epoch 55/100\n",
            "422/422 [==============================] - 3s 7ms/step - loss: 0.0603 - accuracy: 0.9810 - val_loss: 0.0603 - val_accuracy: 0.9830\n",
            "Epoch 56/100\n",
            "422/422 [==============================] - 3s 7ms/step - loss: 0.0594 - accuracy: 0.9823 - val_loss: 0.0601 - val_accuracy: 0.9832\n",
            "Epoch 57/100\n",
            "422/422 [==============================] - 3s 8ms/step - loss: 0.0591 - accuracy: 0.9814 - val_loss: 0.0596 - val_accuracy: 0.9832\n",
            "Epoch 58/100\n",
            "422/422 [==============================] - 3s 7ms/step - loss: 0.0581 - accuracy: 0.9825 - val_loss: 0.0587 - val_accuracy: 0.9832\n",
            "Epoch 59/100\n",
            "422/422 [==============================] - 3s 7ms/step - loss: 0.0572 - accuracy: 0.9823 - val_loss: 0.0580 - val_accuracy: 0.9832\n",
            "Epoch 60/100\n",
            "422/422 [==============================] - 3s 7ms/step - loss: 0.0567 - accuracy: 0.9828 - val_loss: 0.0602 - val_accuracy: 0.9830\n",
            "Epoch 61/100\n",
            "422/422 [==============================] - 3s 7ms/step - loss: 0.0561 - accuracy: 0.9824 - val_loss: 0.0580 - val_accuracy: 0.9832\n",
            "Epoch 62/100\n",
            "422/422 [==============================] - 3s 7ms/step - loss: 0.0555 - accuracy: 0.9826 - val_loss: 0.0562 - val_accuracy: 0.9833\n",
            "Epoch 63/100\n",
            "422/422 [==============================] - 3s 7ms/step - loss: 0.0546 - accuracy: 0.9833 - val_loss: 0.0603 - val_accuracy: 0.9825\n",
            "Epoch 64/100\n",
            "422/422 [==============================] - 3s 7ms/step - loss: 0.0540 - accuracy: 0.9836 - val_loss: 0.0575 - val_accuracy: 0.9825\n",
            "Epoch 65/100\n",
            "422/422 [==============================] - 3s 8ms/step - loss: 0.0535 - accuracy: 0.9836 - val_loss: 0.0563 - val_accuracy: 0.9833\n",
            "Epoch 66/100\n",
            "422/422 [==============================] - 3s 7ms/step - loss: 0.0532 - accuracy: 0.9840 - val_loss: 0.0564 - val_accuracy: 0.9827\n",
            "Epoch 67/100\n",
            "422/422 [==============================] - 3s 8ms/step - loss: 0.0527 - accuracy: 0.9843 - val_loss: 0.0613 - val_accuracy: 0.9828\n",
            "Epoch 68/100\n",
            "422/422 [==============================] - 3s 7ms/step - loss: 0.0522 - accuracy: 0.9840 - val_loss: 0.0571 - val_accuracy: 0.9842\n",
            "Epoch 69/100\n",
            "422/422 [==============================] - 3s 7ms/step - loss: 0.0514 - accuracy: 0.9841 - val_loss: 0.0594 - val_accuracy: 0.9825\n",
            "Epoch 70/100\n",
            "422/422 [==============================] - 3s 7ms/step - loss: 0.0508 - accuracy: 0.9844 - val_loss: 0.0570 - val_accuracy: 0.9833\n",
            "Epoch 71/100\n",
            "422/422 [==============================] - 3s 8ms/step - loss: 0.0504 - accuracy: 0.9849 - val_loss: 0.0559 - val_accuracy: 0.9842\n",
            "Epoch 72/100\n",
            "422/422 [==============================] - 3s 7ms/step - loss: 0.0498 - accuracy: 0.9845 - val_loss: 0.0547 - val_accuracy: 0.9847\n",
            "Epoch 73/100\n",
            "422/422 [==============================] - 3s 7ms/step - loss: 0.0499 - accuracy: 0.9845 - val_loss: 0.0578 - val_accuracy: 0.9838\n",
            "Epoch 74/100\n",
            "422/422 [==============================] - 3s 7ms/step - loss: 0.0487 - accuracy: 0.9850 - val_loss: 0.0549 - val_accuracy: 0.9832\n",
            "Epoch 75/100\n",
            "422/422 [==============================] - 3s 7ms/step - loss: 0.0487 - accuracy: 0.9850 - val_loss: 0.0568 - val_accuracy: 0.9848\n",
            "Epoch 76/100\n",
            "422/422 [==============================] - 3s 7ms/step - loss: 0.0483 - accuracy: 0.9848 - val_loss: 0.0542 - val_accuracy: 0.9837\n",
            "Epoch 77/100\n",
            "422/422 [==============================] - 3s 7ms/step - loss: 0.0480 - accuracy: 0.9855 - val_loss: 0.0566 - val_accuracy: 0.9843\n",
            "Epoch 78/100\n",
            "422/422 [==============================] - 3s 7ms/step - loss: 0.0474 - accuracy: 0.9856 - val_loss: 0.0572 - val_accuracy: 0.9842\n",
            "Epoch 79/100\n",
            "422/422 [==============================] - 3s 8ms/step - loss: 0.0464 - accuracy: 0.9856 - val_loss: 0.0540 - val_accuracy: 0.9850\n",
            "Epoch 80/100\n",
            "422/422 [==============================] - 3s 7ms/step - loss: 0.0464 - accuracy: 0.9855 - val_loss: 0.0545 - val_accuracy: 0.9842\n",
            "Epoch 81/100\n",
            "422/422 [==============================] - 3s 7ms/step - loss: 0.0462 - accuracy: 0.9856 - val_loss: 0.0531 - val_accuracy: 0.9847\n",
            "Epoch 82/100\n",
            "422/422 [==============================] - 3s 7ms/step - loss: 0.0457 - accuracy: 0.9857 - val_loss: 0.0544 - val_accuracy: 0.9843\n",
            "Epoch 83/100\n",
            "422/422 [==============================] - 3s 7ms/step - loss: 0.0457 - accuracy: 0.9858 - val_loss: 0.0550 - val_accuracy: 0.9847\n",
            "Epoch 84/100\n",
            "422/422 [==============================] - 3s 7ms/step - loss: 0.0452 - accuracy: 0.9861 - val_loss: 0.0526 - val_accuracy: 0.9852\n",
            "Epoch 85/100\n",
            "422/422 [==============================] - 3s 8ms/step - loss: 0.0446 - accuracy: 0.9861 - val_loss: 0.0532 - val_accuracy: 0.9843\n",
            "Epoch 86/100\n",
            "422/422 [==============================] - 3s 7ms/step - loss: 0.0445 - accuracy: 0.9864 - val_loss: 0.0529 - val_accuracy: 0.9852\n",
            "Epoch 87/100\n",
            "422/422 [==============================] - 3s 8ms/step - loss: 0.0440 - accuracy: 0.9865 - val_loss: 0.0562 - val_accuracy: 0.9850\n",
            "Epoch 88/100\n",
            "422/422 [==============================] - 3s 8ms/step - loss: 0.0437 - accuracy: 0.9862 - val_loss: 0.0563 - val_accuracy: 0.9848\n",
            "Epoch 89/100\n",
            "422/422 [==============================] - 3s 7ms/step - loss: 0.0435 - accuracy: 0.9868 - val_loss: 0.0530 - val_accuracy: 0.9852\n",
            "Epoch 90/100\n",
            "422/422 [==============================] - 3s 7ms/step - loss: 0.0431 - accuracy: 0.9869 - val_loss: 0.0529 - val_accuracy: 0.9850\n",
            "Epoch 91/100\n",
            "422/422 [==============================] - 3s 7ms/step - loss: 0.0427 - accuracy: 0.9869 - val_loss: 0.0522 - val_accuracy: 0.9847\n",
            "Epoch 92/100\n",
            "422/422 [==============================] - 3s 7ms/step - loss: 0.0423 - accuracy: 0.9870 - val_loss: 0.0535 - val_accuracy: 0.9853\n",
            "Epoch 93/100\n",
            "422/422 [==============================] - 3s 7ms/step - loss: 0.0426 - accuracy: 0.9869 - val_loss: 0.0531 - val_accuracy: 0.9848\n",
            "Epoch 94/100\n",
            "422/422 [==============================] - 3s 7ms/step - loss: 0.0420 - accuracy: 0.9873 - val_loss: 0.0548 - val_accuracy: 0.9843\n",
            "Epoch 95/100\n",
            "422/422 [==============================] - 3s 7ms/step - loss: 0.0412 - accuracy: 0.9877 - val_loss: 0.0548 - val_accuracy: 0.9835\n",
            "Epoch 96/100\n",
            "422/422 [==============================] - 3s 7ms/step - loss: 0.0415 - accuracy: 0.9874 - val_loss: 0.0545 - val_accuracy: 0.9843\n",
            "Epoch 97/100\n",
            "422/422 [==============================] - 3s 7ms/step - loss: 0.0406 - accuracy: 0.9874 - val_loss: 0.0531 - val_accuracy: 0.9858\n",
            "Epoch 98/100\n",
            "422/422 [==============================] - 3s 7ms/step - loss: 0.0407 - accuracy: 0.9879 - val_loss: 0.0521 - val_accuracy: 0.9847\n",
            "Epoch 99/100\n",
            "422/422 [==============================] - 3s 7ms/step - loss: 0.0405 - accuracy: 0.9877 - val_loss: 0.0513 - val_accuracy: 0.9857\n",
            "Epoch 100/100\n",
            "422/422 [==============================] - 3s 7ms/step - loss: 0.0404 - accuracy: 0.9875 - val_loss: 0.0514 - val_accuracy: 0.9853\n",
            "Time for training:   313.7185s\n"
          ]
        }
      ],
      "source": [
        "# Escribe el codigo aquí\n",
        "\n",
        "#10 % of the training data will be used to validate the training\n",
        "start_time = time.time()\n",
        "\n",
        "validation_portion = 0.1\n",
        "batch_size=128\n",
        "num_epochs = 100\n",
        "\n",
        "history = model.fit(x=x_train, y=y_train, epochs=num_epochs, batch_size=batch_size, \\\n",
        "                            validation_split=validation_portion, shuffle=True, verbose=1)\n",
        "\n",
        "end_time = time.time()\n",
        "print(\"Time for training: {:10.4f}s\".format(end_time - start_time))"
      ]
    },
    {
      "cell_type": "markdown",
      "metadata": {
        "id": "rnB9drWqAsKb"
      },
      "source": [
        "<font size=4 color='rosybrown'>\n",
        "    \n",
        "    \n",
        " #### Ejercicio 16"
      ]
    },
    {
      "cell_type": "markdown",
      "metadata": {
        "id": "s9zVzXGxAsKc"
      },
      "source": [
        "<font size=4>\n",
        "\n",
        "Grafica el costo en función de la epoca para los conjuntos de entrenamiento y de validación."
      ]
    },
    {
      "cell_type": "code",
      "execution_count": 20,
      "metadata": {
        "ExecuteTime": {
          "end_time": "2020-11-25T01:04:19.728584Z",
          "start_time": "2020-11-25T01:04:19.724692Z"
        },
        "id": "O05dwsAUAsKc",
        "colab": {
          "base_uri": "https://localhost:8080/",
          "height": 409
        },
        "outputId": "c1ae7ae2-127c-43a2-d335-08718a038ccf"
      },
      "outputs": [
        {
          "output_type": "display_data",
          "data": {
            "text/plain": [
              "<Figure size 576x432 with 1 Axes>"
            ],
            "image/png": "[encoded data removed]"
          },
          "metadata": {
            "needs_background": "light"
          }
        }
      ],
      "source": [
        "# Escribe el codigo aquí\n",
        "\n",
        "plt.figure(figsize=(8,6))\n",
        "\n",
        "plt.plot(history.history['loss'], color='red')\n",
        "plt.plot(history.history['val_loss'], color='blue')\n",
        "plt.title('Lr = 0.015, FF_Dropout: Inp = 0.50, hl_1 = 0.50, hl_2 = 0.50')\n",
        "plt.ylabel('Cost', size=16)\n",
        "plt.xlabel('Epoch',size=16)\n",
        "plt.legend(['Train', 'Validation'], loc='upper right', fontsize=16)\n",
        "plt.show()"
      ]
    },
    {
      "cell_type": "markdown",
      "metadata": {
        "id": "wLi0oOpFAsKd"
      },
      "source": [
        "<font size=4 color='rosybrown'>\n",
        "    \n",
        "    \n",
        " #### Ejercicio 17\n"
      ]
    },
    {
      "cell_type": "markdown",
      "metadata": {
        "id": "_3_7hXEnAsKd"
      },
      "source": [
        "<font size=4>\n",
        "\n",
        "Grafica el accuracy (la precisión del modelo) en función de la epoca para los conjuntos de entrenamiento y de validación."
      ]
    },
    {
      "cell_type": "code",
      "execution_count": 21,
      "metadata": {
        "ExecuteTime": {
          "end_time": "2020-11-25T01:04:19.728584Z",
          "start_time": "2020-11-25T01:04:19.724692Z"
        },
        "id": "k02kxY0dAsKe",
        "colab": {
          "base_uri": "https://localhost:8080/",
          "height": 424
        },
        "outputId": "f90dc607-f7e9-4e0a-f2a9-9e0f3a760c24"
      },
      "outputs": [
        {
          "output_type": "display_data",
          "data": {
            "text/plain": [
              "<Figure size 576x432 with 1 Axes>"
            ],
            "image/png": "[encoded data removed]"
          },
          "metadata": {
            "needs_background": "light"
          }
        }
      ],
      "source": [
        "# Escribe el codigo aquí\n",
        "\n",
        "plt.figure(figsize=(8,6))\n",
        "\n",
        "plt.plot(history.history['accuracy'], color='red')\n",
        "plt.plot(history.history['val_accuracy'], color='blue')\n",
        "plt.title('Lr = 0.015, FF_Dropout: Inp = 0.50, hl1 = 0.50, hl2 = 0.50, \\n Acc=0.755')\n",
        "plt.ylabel('Accuracy', size=16)\n",
        "plt.xlabel('Epoch', size=16)\n",
        "plt.legend(['Train', 'Validation'], loc='lower right', fontsize=16)\n",
        "plt.show()"
      ]
    },
    {
      "cell_type": "markdown",
      "metadata": {
        "id": "BcXc1FE7AsKe"
      },
      "source": [
        "<font size=4 color='rosybrown'>\n",
        "    \n",
        "    \n",
        " #### Ejercicio 18"
      ]
    },
    {
      "cell_type": "markdown",
      "metadata": {
        "id": "DrniXIeFAsKf"
      },
      "source": [
        "<font size=4>\n",
        "\n",
        "Evalua el modelo en el conjunto de prueba. Usa el métodod evaluate()"
      ]
    },
    {
      "cell_type": "code",
      "execution_count": 22,
      "metadata": {
        "ExecuteTime": {
          "end_time": "2020-11-25T01:04:19.728584Z",
          "start_time": "2020-11-25T01:04:19.724692Z"
        },
        "id": "cDXp_18oAsKg",
        "colab": {
          "base_uri": "https://localhost:8080/"
        },
        "outputId": "8495baf4-55c6-430b-ab79-96560f018b02"
      },
      "outputs": [
        {
          "output_type": "stream",
          "name": "stdout",
          "text": [
            "313/313 [==============================] - 1s 3ms/step - loss: 0.0438 - accuracy: 0.9857\n",
            "Loss = 0.04378857836127281\n",
            "Test Accuracy = 0.9857000112533569\n"
          ]
        }
      ],
      "source": [
        "# Escribe el codigo aquí\n",
        "\n",
        "evaluations = model.evaluate(x = x_test, y = y_test)\n",
        "\n",
        "print (\"Loss = \" + str(evaluations[0]))\n",
        "print (\"Test Accuracy = \" + str(evaluations[1]))\n"
      ]
    },
    {
      "cell_type": "markdown",
      "metadata": {
        "id": "Zyab0IKHAsKg"
      },
      "source": [
        "<font size = 5 color=\"cornflowerblue\">\n",
        "\n",
        "Parte III: **Inferencia**"
      ]
    },
    {
      "cell_type": "markdown",
      "metadata": {
        "id": "CvcI81EFAsKh"
      },
      "source": [
        "<font size=4 color='rosybrown'>\n",
        "    \n",
        "    \n",
        "#### Ejercicio 19"
      ]
    },
    {
      "cell_type": "markdown",
      "metadata": {
        "id": "yQxOveoBAsKh"
      },
      "source": [
        "<font size=4>\n",
        "\n",
        "Realiza predicciones sobre el conjunto de prueba. Usa el método predict()\n",
        "\n",
        "Muestra algun ejemplo, es decir dado un input tomado del conjunto test_x muestra cuál es la inferencia realizada por la red neuronal y cual es la etiqueta real (la correspondiente test_y)."
      ]
    },
    {
      "cell_type": "code",
      "execution_count": 23,
      "metadata": {
        "ExecuteTime": {
          "end_time": "2020-11-25T01:04:19.728584Z",
          "start_time": "2020-11-25T01:04:19.724692Z"
        },
        "id": "CdF3o7JKAsKl",
        "colab": {
          "base_uri": "https://localhost:8080/"
        },
        "outputId": "65cd16a3-a5fa-490c-81de-2ae616db547a"
      },
      "outputs": [
        {
          "output_type": "stream",
          "name": "stdout",
          "text": [
            "313/313 [==============================] - 1s 2ms/step\n"
          ]
        }
      ],
      "source": [
        "# Escribe el codigo aquí\n",
        "predictions = model.predict(x_test)"
      ]
    },
    {
      "cell_type": "code",
      "source": [
        "sample = 31\n",
        "\n",
        "prediction = np.argmax(predictions[sample])\n",
        "\n",
        "print(\"Para la muestra numero {} la predicción es el dígito: {}\".format(sample, prediction))"
      ],
      "metadata": {
        "colab": {
          "base_uri": "https://localhost:8080/"
        },
        "id": "xK5WrFIpOej-",
        "outputId": "395623f5-0118-4cc3-e97e-e7a7299e76ca"
      },
      "execution_count": 24,
      "outputs": [
        {
          "output_type": "stream",
          "name": "stdout",
          "text": [
            "Para la muestra numero 31 la predicción es el dígito: 1\n"
          ]
        }
      ]
    },
    {
      "cell_type": "code",
      "source": [
        "plt.imshow(x_test[sample].reshape((28, 28)), cmap='gray')\n",
        "\n",
        "print(\"La muestra numero {} esta asociada al dígito: {}\".format(sample, np.argmax(y_test[sample])))"
      ],
      "metadata": {
        "colab": {
          "base_uri": "https://localhost:8080/",
          "height": 282
        },
        "id": "IGQzIz1-PI6_",
        "outputId": "5e22d3f7-d39f-4daa-8084-a9fd01221c56"
      },
      "execution_count": 25,
      "outputs": [
        {
          "output_type": "stream",
          "name": "stdout",
          "text": [
            "La muestra numero 31 esta asociada al dígito: 1\n"
          ]
        },
        {
          "output_type": "display_data",
          "data": {
            "text/plain": [
              "<Figure size 432x288 with 1 Axes>"
            ],
            "image/png": "[encoded data removed]"
          },
          "metadata": {
            "needs_background": "light"
          }
        }
      ]
    }
  ],
  "metadata": {
    "kernelspec": {
      "display_name": "Python 3 (ipykernel)",
      "language": "python",
      "name": "python3"
    },
    "language_info": {
      "codemirror_mode": {
        "name": "ipython",
        "version": 3
      },
      "file_extension": ".py",
      "mimetype": "text/x-python",
      "name": "python",
      "nbconvert_exporter": "python",
      "pygments_lexer": "ipython3",
      "version": "3.8.8"
    },
    "colab": {
      "provenance": []
    },
    "accelerator": "GPU",
    "gpuClass": "standard"
  },
  "nbformat": 4,
  "nbformat_minor": 0
}